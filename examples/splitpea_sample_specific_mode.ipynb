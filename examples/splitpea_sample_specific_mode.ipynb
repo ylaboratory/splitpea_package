{
  "nbformat": 4,
  "nbformat_minor": 0,
  "metadata": {
    "colab": {
      "provenance": []
    },
    "kernelspec": {
      "name": "python3",
      "display_name": "Python 3"
    },
    "language_info": {
      "name": "python"
    }
  },
  "cells": [
    {
      "cell_type": "markdown",
      "source": [
        "# Splitpea - Sample-specific Mode\n",
        "\n",
        "**Goal**: Use Splitpea to generate both patient-specific rewired networks for individual Uterine carcinosarcoma (UCS) cancer samples against normal uterus tissue samples, as well a consensus network of PPI rewiring events across all UCS cancer samples.\n",
        "\n"
      ],
      "metadata": {
        "id": "C0BZav0dalkc"
      }
    },
    {
      "cell_type": "code",
      "execution_count": null,
      "metadata": {
        "id": "UHD4daG5RK8M",
        "collapsed": true,
        "cellView": "form"
      },
      "outputs": [],
      "source": [
        "#@title 0. Install and import dependencies\n",
        "\n",
        "%%capture\n",
        "!pip install --index-url https://test.pypi.org/simple/ \\\n",
        "            --extra-index-url https://pypi.org/simple splitpea\n",
        "\n",
        "!sudo apt-get install tabix  # Tabix is used under-the-hood for some of the functions\n",
        "\n",
        "import splitpea"
      ]
    },
    {
      "cell_type": "code",
      "source": [
        "!splitpea --help  # Splitpea can be run both as a command-line tool and as a Python library"
      ],
      "metadata": {
        "colab": {
          "base_uri": "https://localhost:8080/"
        },
        "id": "dusbyJ6hzm0p",
        "outputId": "8db0d1f7-edff-4c03-e6f9-cb6fa3d9c754"
      },
      "execution_count": null,
      "outputs": [
        {
          "output_type": "stream",
          "name": "stdout",
          "text": [
            "usage: splitpea [-h]\n",
            "                {run,plot,stats,calculate_delta_psi,combine_spliced_exon,preprocess_pooled,get_consensus_network}\n",
            "                ...\n",
            "\n",
            "splitpea: SPLicing InTeractions PErsonAlized\n",
            "\n",
            "positional arguments:\n",
            "  {run,plot,stats,calculate_delta_psi,combine_spliced_exon,preprocess_pooled,get_consensus_network}\n",
            "    run                 calculate and output rewired network\n",
            "    plot                load a saved rewired network (.edges.pickle) and\n",
            "                        produce plots\n",
            "    stats               compute and write gene level statistics for a rewired\n",
            "                        splicing PPI network\n",
            "    calculate_delta_psi\n",
            "                        Calculate delta PSI values and p-values for background\n",
            "                        vs compare exon comparisons\n",
            "    combine_spliced_exon\n",
            "                        Combine individual spliced-exon PSI files into a\n",
            "                        single mean PSI file per exon\n",
            "    preprocess_pooled   Download or use existing background psi files, combine\n",
            "                        exons, then calculate delta PSI\n",
            "    get_consensus_network\n",
            "                        Get one summary network from a directory/folder of\n",
            "                        rewired Splitpea networks\n",
            "\n",
            "options:\n",
            "  -h, --help            show this help message and exit\n"
          ]
        }
      ]
    },
    {
      "cell_type": "code",
      "source": [
        "#@title 1. Download/importing data: splicing matrices\n",
        "#@markdown We’ll fetch a UCS splicing matrix from the [IRIS](https://github.com/Xinglab/IRIS) database which contains the samples we want to compare against.\n",
        "#@markdown\n",
        "#@markdown **Optional:** you can also grab a normal/background matrix for Uterus, but this is redundant if you use `splitpea.preprocess_pooled`'s `background` parameter, which can auto-download the GTEx tissue matrix for you from IRIS.\n",
        "\n",
        "!wget https://xinglabtrackhub.research.chop.edu/iris/IRIS_data.v2.0.0/db/TCGA_UCS_T/splicing_matrix/splicing_matrix.SE.cov10.TCGA_UCS_T.txt # cancer samples\n",
        "print(\"Downloaded compare cancer matrix: /content/splicing_matrix.SE.cov10.TCGA_UCS_T.txt\")\n",
        "\n",
        "also_download_background = False  #@param {type:\"boolean\"}\n",
        "if also_download_background:\n",
        "  !wget -q https://xinglabtrackhub.research.chop.edu/iris/IRIS_data.v2.0.0/db/GTEx_Uterus/splicing_matrix/splicing_matrix.SE.cov10.GTEx_Uterus.txt # normal tissue samples\n",
        "  print(\"Downloaded optional background normal tissue matrix: /content/splicing_matrix.SE.cov10.GTEx_Uterus.txt\")"
      ],
      "metadata": {
        "colab": {
          "base_uri": "https://localhost:8080/"
        },
        "id": "ivkVyPY6Rptw",
        "outputId": "6bf02184-e29a-43e9-a34b-029f853e44b3",
        "cellView": "form"
      },
      "execution_count": null,
      "outputs": [
        {
          "output_type": "stream",
          "name": "stdout",
          "text": [
            "--2025-08-18 05:35:35--  https://xinglabtrackhub.research.chop.edu/iris/IRIS_data.v2.0.0/db/TCGA_UCS_T/splicing_matrix/splicing_matrix.SE.cov10.TCGA_UCS_T.txt\n",
            "Resolving xinglabtrackhub.research.chop.edu (xinglabtrackhub.research.chop.edu)... 159.14.197.33\n",
            "Connecting to xinglabtrackhub.research.chop.edu (xinglabtrackhub.research.chop.edu)|159.14.197.33|:443... connected.\n",
            "HTTP request sent, awaiting response... 200 OK\n",
            "Length: 43681277 (42M) [text/plain]\n",
            "Saving to: ‘splicing_matrix.SE.cov10.TCGA_UCS_T.txt’\n",
            "\n",
            "splicing_matrix.SE. 100%[===================>]  41.66M  1.55MB/s    in 37s     \n",
            "\n",
            "2025-08-18 05:36:13 (1.13 MB/s) - ‘splicing_matrix.SE.cov10.TCGA_UCS_T.txt’ saved [43681277/43681277]\n",
            "\n",
            "Downloaded compare cancer matrix: /content/splicing_matrix.SE.cov10.TCGA_UCS_T.txt\n"
          ]
        }
      ]
    },
    {
      "cell_type": "markdown",
      "source": [
        "### 2. Run the built-in preprocessing function.\n",
        "\n",
        "This function builds the inputs (`{sample}-psi.txt`) for Splitpea's sample-specific mode in the output directory (`out_psi_dir = \"/content/UCS_PSI\"`). It first averages exon-level splicing data across normal uterus samples to create a background, then computes ΔPSI and empirical p-values for each cancer sample (`compare_path`).\n",
        "\n",
        "Two options are available for generating these outputs. Option A uses the `background` parameter to automatically download normal uterus samples from IRIS. Those files are saved under (`background_download_root = \"/content/IRIS_uterus\"`). Supported background tissues include: AdiposeTissue, AdrenalGland, Bladder, Blood, BloodVessel, Brain, Breast, CervixUteri, Colon, Esophagus, FallopianTube, Heart, Kidney, Liver, Lung, Muscle, Nerve, Ovary, Pancreas, Pituitary, Prostate, SalivaryGland, Skin, SmallIntestine, Spleen, Stomach, Testis, Thyroid, Uterus, and Vagina. Option B uses a local background path (see dropdown below)."
      ],
      "metadata": {
        "id": "7STytyxMboUJ"
      }
    },
    {
      "cell_type": "code",
      "source": [
        "# OPTION A: auto-download GTEx tissue background from IRIS\n",
        "splitpea.preprocess_pooled(\n",
        "    compare_path=\"/content/splicing_matrix.SE.cov10.TCGA_UCS_T.txt\",\n",
        "    background=\"uterus\",\n",
        "    background_download_root=\"/content/IRIS_uterus/\",\n",
        "    out_psi_dir=\"/content/UCS_PSI\"\n",
        ")"
      ],
      "metadata": {
        "colab": {
          "base_uri": "https://localhost:8080/",
          "height": 1000
        },
        "id": "HOH6vPwYRs_2",
        "outputId": "135ded15-baf1-46e7-b79f-3e97534dcf9f",
        "collapsed": true
      },
      "execution_count": null,
      "outputs": [
        {
          "output_type": "stream",
          "name": "stdout",
          "text": [
            "Downloading https://xinglabtrackhub.research.chop.edu/iris/IRIS_data.v2.0.0/db/GTEx_Uterus/splicing_matrix/splicing_matrix.SE.cov10.GTEx_Uterus.txt to /content/IRIS_uterus/GTEx_Uterus/splicing_matrix/splicing_matrix.SE.cov10.GTEx_Uterus.txt\n",
            "Y. Pan, J.W. Phillips, B.D. Zhang, M. Noguchi, E. Kutschera, J. McLaughlin, P.A. Nesterenko, Z. Mao, N.J. Bangayan, R. Wang, W. Tran, H.T. Yang, Y. Wang, Y. Xu, M.B. Obusan, D. Cheng, A.H. Lee, K.E. Kadash-Edmondson, A. Champhekar, C. Puig-Saus, A. Ribas, R.M. Prins, C.S. Seet, G.M. Crooks, O.N. Witte, & Y. Xing, IRIS: Discovery of cancer immunotherapy targets arising from pre-mRNA alternative splicing, Proc. Natl. Acad. Sci. U.S.A. 120 (21) e2221116120, https://doi.org/10.1073/pnas.2221116120 (2023).\n",
            "processing file: splicing_matrix.SE.cov10.GTEx_Uterus.txt\n",
            "Starting delta PSI calculation...\n",
            "Processing sample TCGA-N5-A4RM-01A-11R-A28V-07.aln...\n",
            "Processing sample TCGA-N5-A4RF-01A-11R-A28V-07.aln...\n",
            "Processing sample TCGA-N5-A4RU-01A-31R-A28V-07.aln...\n",
            "Processing sample TCGA-NA-A4QY-01A-11R-A28V-07.aln...\n",
            "Processing sample TCGA-NF-A5CP-01A-12R-A28V-07.aln...\n",
            "Processing sample TCGA-ND-A4W6-01A-11R-A28V-07.aln...\n",
            "Processing sample TCGA-QM-A5NM-01A-11R-A28V-07.aln...\n",
            "Processing sample TCGA-NG-A4VW-01A-11R-A28V-07.aln...\n",
            "Processing sample TCGA-N6-A4VE-01A-11R-A28V-07.aln...\n",
            "Processing sample TCGA-NA-A5I1-01A-21R-A28V-07.aln...\n",
            "Processing sample TCGA-N5-A4RS-01A-11R-A28V-07.aln...\n",
            "Processing sample TCGA-N5-A4RO-01A-11R-A28V-07.aln...\n",
            "Processing sample TCGA-N6-A4VG-01A-31R-A28V-07.aln...\n",
            "Processing sample TCGA-NA-A4QV-01A-11R-A28V-07.aln...\n",
            "Processing sample TCGA-NA-A4QX-01A-11R-A28V-07.aln...\n",
            "Processing sample TCGA-N5-A4RJ-01A-11R-A28V-07.aln...\n",
            "Processing sample TCGA-N5-A4RN-01A-12R-A28V-07.aln...\n",
            "Processing sample TCGA-NF-A4WU-01A-11R-A28V-07.aln...\n",
            "Processing sample TCGA-N6-A4VC-01A-11R-A28V-07.aln...\n",
            "Processing sample TCGA-NF-A4WX-01A-11R-A28V-07.aln...\n",
            "Processing sample TCGA-N9-A4Q7-01A-11R-A28V-07.aln...\n",
            "Processing sample TCGA-N5-A4RV-01A-21R-A28V-07.aln...\n",
            "Processing sample TCGA-N9-A4Q4-01A-11R-A28V-07.aln...\n",
            "Processing sample TCGA-NG-A4VU-01A-11R-A28V-07.aln...\n",
            "Processing sample TCGA-N9-A4Q8-01A-31R-A28V-07.aln...\n",
            "Processing sample TCGA-QN-A5NN-01A-11R-A28V-07.aln...\n",
            "Processing sample TCGA-N6-A4VF-01A-31R-A28V-07.aln...\n",
            "Processing sample TCGA-ND-A4WF-01A-11R-A28V-07.aln...\n",
            "Processing sample TCGA-NA-A4R1-01A-11R-A28V-07.aln...\n",
            "Processing sample TCGA-NA-A4R0-01A-11R-A28V-07.aln...\n",
            "Processing sample TCGA-ND-A4WC-01A-21R-A28V-07.aln...\n",
            "Processing sample TCGA-N5-A4RT-01A-11R-A28V-07.aln...\n",
            "Processing sample TCGA-N7-A4Y5-01A-12R-A28V-07.aln...\n",
            "Processing sample TCGA-N9-A4PZ-01A-22R-A28V-07.aln...\n",
            "Processing sample TCGA-N5-A59E-01A-11R-A28V-07.aln...\n",
            "Processing sample TCGA-N8-A4PQ-01A-11R-A28V-07.aln...\n",
            "Processing sample TCGA-N8-A4PL-01A-11R-A28V-07.aln...\n",
            "Processing sample TCGA-NA-A4QW-01A-11R-A28V-07.aln...\n",
            "Processing sample TCGA-N7-A4Y0-01A-12R-A28V-07.aln...\n",
            "Processing sample TCGA-N7-A4Y8-01A-11R-A28V-07.aln...\n",
            "Processing sample TCGA-N8-A56S-01A-11R-A28V-07.aln...\n",
            "Processing sample TCGA-N5-A4RD-01A-11R-A28V-07.aln...\n",
            "Processing sample TCGA-NF-A4X2-01A-11R-A28V-07.aln...\n",
            "Processing sample TCGA-N8-A4PM-01A-11R-A28V-07.aln...\n",
            "Processing sample TCGA-N8-A4PO-01A-11R-A28V-07.aln...\n",
            "Processing sample TCGA-N6-A4V9-01A-11R-A28V-07.aln...\n",
            "Processing sample TCGA-N9-A4Q3-01A-11R-A28V-07.aln...\n",
            "Processing sample TCGA-N5-A59F-01A-11R-A28V-07.aln...\n",
            "Processing sample TCGA-N8-A4PN-01A-11R-A28V-07.aln...\n",
            "Processing sample TCGA-N8-A4PP-01A-11R-A28V-07.aln...\n",
            "Processing sample TCGA-N8-A4PI-01A-21R-A28V-07.aln...\n",
            "Processing sample TCGA-N5-A4RA-01A-11R-A28V-07.aln...\n",
            "Processing sample TCGA-N7-A59B-01A-11R-A28V-07.aln...\n",
            "Processing sample TCGA-N9-A4Q1-01A-11R-A28V-07.aln...\n",
            "Processing sample TCGA-ND-A4WA-01A-12R-A28V-07.aln...\n",
            "Processing sample TCGA-N5-A4R8-01A-11R-A28V-07.aln...\n",
            "Processing sample TCGA-N6-A4VD-01A-11R-A28V-07.aln...\n"
          ]
        },
        {
          "output_type": "execute_result",
          "data": {
            "text/plain": [
              "'/content/UCS_PSI'"
            ],
            "application/vnd.google.colaboratory.intrinsic+json": {
              "type": "string"
            }
          },
          "metadata": {},
          "execution_count": 3
        }
      ]
    },
    {
      "cell_type": "markdown",
      "source": [
        "<details>\n",
        "<summary>OPTION B: to use local background path instead, replace with and run this code.</summary>\n",
        "\n",
        "```python\n",
        "splitpea.preprocess_pooled(\n",
        "    compare_path=\"/content/splicing_matrix.SE.cov10.TCGA_UCS_T.txt\",\n",
        "    background_path=\"/content/splicing_matrix.SE.cov10.GTEx_Uterus.txt\",\n",
        "    out_psi_dir=\"/content/UCS_PSI\"\n",
        ")\n",
        "```\n",
        "\n",
        "</details>"
      ],
      "metadata": {
        "id": "S597UlAfkh-q"
      }
    },
    {
      "cell_type": "code",
      "source": [
        "#@title 3. Run Splitpea (build sample specific rewired networks in parallel)\n",
        "#@markdown Each `{sample}-psi.txt` file in the `input_dir = /content/UCS_PSI/` generated by `splitpea.preprocess_pooled` is used as an `input_file`.\n",
        "#@markdown\n",
        "#@markdown This code block simply runs:\n",
        "#@markdown\n",
        "#@markdown `splitpea.run(input_file, output_dir)`\n",
        "#@markdown\n",
        "#@markdown for each sample in parallel.\n",
        "#@markdown Splitpea generates:\n",
        "#@markdown `<output_dir>{sample}.edges.dat` and\n",
        "#@markdown `<output_dir>{sample}.edges.pickle`,\n",
        "#@markdown which are the rewired network files for that sample.\n",
        "#@markdown #### Options\n",
        "input_dir   = \"/content/UCS_PSI/\"        #@param {type:\"string\"}\n",
        "output_dir = \"/content/rewired_networks/\"  #@param {type:\"string\"}\n",
        "max_workers   = 3                       #@param {type:\"integer\"}\n",
        "verbose = True                   #@param {type:\"boolean\"}\n",
        "\n",
        "import logging\n",
        "\n",
        "if verbose:\n",
        "  logging.basicConfig(level=logging.INFO, force=True)\n",
        "else:\n",
        "  logging.basicConfig(level=logging.WARNING, force=True)\n",
        "\n",
        "\n",
        "import os\n",
        "from concurrent.futures import ProcessPoolExecutor, as_completed\n",
        "\n",
        "os.makedirs(output_dir, exist_ok=True)\n",
        "\n",
        "def run_one(input_file: str, output_prefix: str) -> str:\n",
        "    import splitpea\n",
        "    splitpea.run(input_file, output_prefix)\n",
        "    return output_prefix\n",
        "\n",
        "jobs = []\n",
        "for filename in os.listdir(input_dir):\n",
        "    if filename.endswith(\".txt\"):\n",
        "        ipref = filename.replace(\"-psi.txt\", \"\")\n",
        "        input_file = os.path.join(input_dir, filename)\n",
        "        output_prefix = os.path.join(output_dir, ipref)\n",
        "        jobs.append((input_file, output_prefix))\n",
        "\n",
        "print(f\"Submitting {len(jobs)} jobs with up to {max_workers} workers...\")\n",
        "\n",
        "futures = {}\n",
        "with ProcessPoolExecutor(max_workers=max_workers) as ex:\n",
        "    for inp, out in jobs:\n",
        "        futures[ex.submit(run_one, inp, out)] = (inp, out)\n",
        "\n",
        "    for fut in as_completed(futures):\n",
        "        inp, out = futures[fut]\n",
        "        try:\n",
        "            fut.result()\n",
        "            print(f\"Done: {inp} -> {out}\")\n",
        "        except Exception as e:\n",
        "            print(f\"Failed: {inp} -> {out} ({e})\")\n"
      ],
      "metadata": {
        "colab": {
          "base_uri": "https://localhost:8080/"
        },
        "cellView": "form",
        "id": "FetHQTSZpkED",
        "outputId": "8c1de4aa-a783-46e2-db9a-2b1d8c77e37c"
      },
      "execution_count": null,
      "outputs": [
        {
          "output_type": "stream",
          "name": "stdout",
          "text": [
            "Submitting 57 jobs with up to 3 workers...\n"
          ]
        },
        {
          "output_type": "stream",
          "name": "stderr",
          "text": [
            "INFO:diff_exon:Loading DDIs....\n",
            "INFO:diff_exon:Loading DDIs....\n",
            "INFO:diff_exon:Loading DDIs....\n",
            "INFO:diff_exon:# pfams: 8602, # ddis: 17450\n",
            "INFO:diff_exon:Loading PPIs....\n",
            "INFO:diff_exon:# pfams: 8602, # ddis: 17450\n",
            "INFO:diff_exon:Loading PPIs....\n",
            "INFO:diff_exon:# pfams: 8602, # ddis: 17450\n",
            "INFO:diff_exon:Loading PPIs....\n",
            "INFO:diff_exon:# proteins: 20286, # interactions: 793078\n",
            "INFO:diff_exon:Loading gene-protein domain info....\n",
            "INFO:diff_exon:# proteins: 20286, # interactions: 793078\n",
            "INFO:diff_exon:Loading gene-protein domain info....\n",
            "INFO:diff_exon:Reading differential exon results....\n",
            "INFO:diff_exon:Reading in input exons...\n",
            "INFO:diff_exon:# proteins: 20286, # interactions: 793078\n",
            "INFO:diff_exon:Loading gene-protein domain info....\n",
            "INFO:diff_exon:# of differentially expressed exons: 3173\n",
            "INFO:diff_exon:Calculating network....\n",
            "INFO:diff_exon:Reading differential exon results....\n",
            "INFO:diff_exon:Reading in input exons...\n",
            "INFO:diff_exon:# of differentially expressed exons: 3640\n",
            "INFO:diff_exon:Calculating network....\n",
            "INFO:diff_exon:Reading differential exon results....\n",
            "INFO:diff_exon:Reading in input exons...\n",
            "INFO:diff_exon:# of differentially expressed exons: 3119\n",
            "INFO:diff_exon:Calculating network....\n",
            "INFO:diff_exon:# nodes: 3433, # edges: 6233\n",
            "INFO:diff_exon:Outputting as pickle...\n",
            "INFO:diff_exon:Done\n",
            "INFO:diff_exon:Loading DDIs....\n",
            "INFO:diff_exon:# pfams: 8602, # ddis: 17450\n",
            "INFO:diff_exon:Loading PPIs....\n"
          ]
        },
        {
          "output_type": "stream",
          "name": "stdout",
          "text": [
            "Done: /content/UCS_PSI/TCGA-N7-A59B-01A-11R-A28V-07.aln-psi.txt -> /content/rewired_networks/TCGA-N7-A59B-01A-11R-A28V-07.aln\n"
          ]
        },
        {
          "output_type": "stream",
          "name": "stderr",
          "text": [
            "INFO:diff_exon:# nodes: 3647, # edges: 6613\n",
            "INFO:diff_exon:Outputting as pickle...\n",
            "INFO:diff_exon:Done\n",
            "INFO:diff_exon:Loading DDIs....\n"
          ]
        },
        {
          "output_type": "stream",
          "name": "stdout",
          "text": [
            "Done: /content/UCS_PSI/TCGA-N5-A59E-01A-11R-A28V-07.aln-psi.txt -> /content/rewired_networks/TCGA-N5-A59E-01A-11R-A28V-07.aln\n"
          ]
        },
        {
          "output_type": "stream",
          "name": "stderr",
          "text": [
            "INFO:diff_exon:# pfams: 8602, # ddis: 17450\n",
            "INFO:diff_exon:Loading PPIs....\n",
            "INFO:diff_exon:# proteins: 20286, # interactions: 793078\n",
            "INFO:diff_exon:Loading gene-protein domain info....\n",
            "INFO:diff_exon:Reading differential exon results....\n",
            "INFO:diff_exon:Reading in input exons...\n",
            "INFO:diff_exon:# of differentially expressed exons: 5181\n",
            "INFO:diff_exon:Calculating network....\n",
            "INFO:diff_exon:# proteins: 20286, # interactions: 793078\n",
            "INFO:diff_exon:Loading gene-protein domain info....\n",
            "INFO:diff_exon:Reading differential exon results....\n",
            "INFO:diff_exon:Reading in input exons...\n",
            "INFO:diff_exon:# of differentially expressed exons: 2871\n",
            "INFO:diff_exon:Calculating network....\n",
            "INFO:diff_exon:# nodes: 3769, # edges: 6965\n",
            "INFO:diff_exon:Outputting as pickle...\n",
            "INFO:diff_exon:Done\n",
            "INFO:diff_exon:Loading DDIs....\n",
            "INFO:diff_exon:# pfams: 8602, # ddis: 17450\n",
            "INFO:diff_exon:Loading PPIs....\n"
          ]
        },
        {
          "output_type": "stream",
          "name": "stdout",
          "text": [
            "Done: /content/UCS_PSI/TCGA-NF-A4WX-01A-11R-A28V-07.aln-psi.txt -> /content/rewired_networks/TCGA-NF-A4WX-01A-11R-A28V-07.aln\n"
          ]
        },
        {
          "output_type": "stream",
          "name": "stderr",
          "text": [
            "INFO:diff_exon:# proteins: 20286, # interactions: 793078\n",
            "INFO:diff_exon:Loading gene-protein domain info....\n",
            "INFO:diff_exon:Reading differential exon results....\n",
            "INFO:diff_exon:Reading in input exons...\n",
            "INFO:diff_exon:# of differentially expressed exons: 5931\n",
            "INFO:diff_exon:Calculating network....\n",
            "INFO:diff_exon:# nodes: 3488, # edges: 6371\n",
            "INFO:diff_exon:Outputting as pickle...\n",
            "INFO:diff_exon:Done\n",
            "INFO:diff_exon:Loading DDIs....\n",
            "INFO:diff_exon:# pfams: 8602, # ddis: 17450\n",
            "INFO:diff_exon:Loading PPIs....\n"
          ]
        },
        {
          "output_type": "stream",
          "name": "stdout",
          "text": [
            "Done: /content/UCS_PSI/TCGA-N8-A4PM-01A-11R-A28V-07.aln-psi.txt -> /content/rewired_networks/TCGA-N8-A4PM-01A-11R-A28V-07.aln\n"
          ]
        },
        {
          "output_type": "stream",
          "name": "stderr",
          "text": [
            "INFO:diff_exon:# proteins: 20286, # interactions: 793078\n",
            "INFO:diff_exon:Loading gene-protein domain info....\n",
            "INFO:diff_exon:Reading differential exon results....\n",
            "INFO:diff_exon:Reading in input exons...\n",
            "INFO:diff_exon:# of differentially expressed exons: 4351\n",
            "INFO:diff_exon:Calculating network....\n",
            "INFO:diff_exon:# nodes: 4481, # edges: 9844\n",
            "INFO:diff_exon:Outputting as pickle...\n",
            "INFO:diff_exon:Done\n",
            "INFO:diff_exon:Loading DDIs....\n"
          ]
        },
        {
          "output_type": "stream",
          "name": "stdout",
          "text": [
            "Done: /content/UCS_PSI/TCGA-NA-A4R1-01A-11R-A28V-07.aln-psi.txt -> /content/rewired_networks/TCGA-NA-A4R1-01A-11R-A28V-07.aln\n"
          ]
        },
        {
          "output_type": "stream",
          "name": "stderr",
          "text": [
            "INFO:diff_exon:# pfams: 8602, # ddis: 17450\n",
            "INFO:diff_exon:Loading PPIs....\n",
            "INFO:diff_exon:# proteins: 20286, # interactions: 793078\n",
            "INFO:diff_exon:Loading gene-protein domain info....\n",
            "INFO:diff_exon:Reading differential exon results....\n",
            "INFO:diff_exon:Reading in input exons...\n",
            "INFO:diff_exon:# of differentially expressed exons: 3026\n",
            "INFO:diff_exon:Calculating network....\n",
            "INFO:diff_exon:# nodes: 4919, # edges: 10311\n",
            "INFO:diff_exon:Outputting as pickle...\n",
            "INFO:diff_exon:Done\n",
            "INFO:diff_exon:Loading DDIs....\n"
          ]
        },
        {
          "output_type": "stream",
          "name": "stdout",
          "text": [
            "Done: /content/UCS_PSI/TCGA-NA-A4QX-01A-11R-A28V-07.aln-psi.txt -> /content/rewired_networks/TCGA-NA-A4QX-01A-11R-A28V-07.aln\n"
          ]
        },
        {
          "output_type": "stream",
          "name": "stderr",
          "text": [
            "INFO:diff_exon:# pfams: 8602, # ddis: 17450\n",
            "INFO:diff_exon:Loading PPIs....\n",
            "INFO:diff_exon:# proteins: 20286, # interactions: 793078\n",
            "INFO:diff_exon:Loading gene-protein domain info....\n",
            "INFO:diff_exon:Reading differential exon results....\n",
            "INFO:diff_exon:Reading in input exons...\n",
            "INFO:diff_exon:# of differentially expressed exons: 3717\n",
            "INFO:diff_exon:Calculating network....\n",
            "INFO:diff_exon:# nodes: 4177, # edges: 8097\n",
            "INFO:diff_exon:Outputting as pickle...\n",
            "INFO:diff_exon:Done\n",
            "INFO:diff_exon:Loading DDIs....\n"
          ]
        },
        {
          "output_type": "stream",
          "name": "stdout",
          "text": [
            "Done: /content/UCS_PSI/TCGA-NA-A5I1-01A-21R-A28V-07.aln-psi.txt -> /content/rewired_networks/TCGA-NA-A5I1-01A-21R-A28V-07.aln\n"
          ]
        },
        {
          "output_type": "stream",
          "name": "stderr",
          "text": [
            "INFO:diff_exon:# pfams: 8602, # ddis: 17450\n",
            "INFO:diff_exon:Loading PPIs....\n",
            "INFO:diff_exon:# proteins: 20286, # interactions: 793078\n",
            "INFO:diff_exon:Loading gene-protein domain info....\n",
            "INFO:diff_exon:Reading differential exon results....\n",
            "INFO:diff_exon:Reading in input exons...\n",
            "INFO:diff_exon:# of differentially expressed exons: 5155\n",
            "INFO:diff_exon:Calculating network....\n",
            "INFO:diff_exon:# nodes: 3411, # edges: 6048\n",
            "INFO:diff_exon:Outputting as pickle...\n",
            "INFO:diff_exon:Done\n",
            "INFO:diff_exon:Loading DDIs....\n",
            "INFO:diff_exon:# pfams: 8602, # ddis: 17450\n",
            "INFO:diff_exon:Loading PPIs....\n"
          ]
        },
        {
          "output_type": "stream",
          "name": "stdout",
          "text": [
            "Done: /content/UCS_PSI/TCGA-N9-A4Q7-01A-11R-A28V-07.aln-psi.txt -> /content/rewired_networks/TCGA-N9-A4Q7-01A-11R-A28V-07.aln\n"
          ]
        },
        {
          "output_type": "stream",
          "name": "stderr",
          "text": [
            "INFO:diff_exon:# proteins: 20286, # interactions: 793078\n",
            "INFO:diff_exon:Loading gene-protein domain info....\n",
            "INFO:diff_exon:Reading differential exon results....\n",
            "INFO:diff_exon:Reading in input exons...\n",
            "INFO:diff_exon:# of differentially expressed exons: 3830\n",
            "INFO:diff_exon:Calculating network....\n",
            "INFO:diff_exon:# nodes: 3650, # edges: 6977\n",
            "INFO:diff_exon:Outputting as pickle...\n",
            "INFO:diff_exon:Done\n",
            "INFO:diff_exon:Loading DDIs....\n"
          ]
        },
        {
          "output_type": "stream",
          "name": "stdout",
          "text": [
            "Done: /content/UCS_PSI/TCGA-ND-A4WA-01A-12R-A28V-07.aln-psi.txt -> /content/rewired_networks/TCGA-ND-A4WA-01A-12R-A28V-07.aln\n"
          ]
        },
        {
          "output_type": "stream",
          "name": "stderr",
          "text": [
            "INFO:diff_exon:# pfams: 8602, # ddis: 17450\n",
            "INFO:diff_exon:Loading PPIs....\n",
            "INFO:diff_exon:# proteins: 20286, # interactions: 793078\n",
            "INFO:diff_exon:Loading gene-protein domain info....\n",
            "INFO:diff_exon:Reading differential exon results....\n",
            "INFO:diff_exon:Reading in input exons...\n",
            "INFO:diff_exon:# of differentially expressed exons: 3742\n",
            "INFO:diff_exon:Calculating network....\n",
            "INFO:diff_exon:# nodes: 3766, # edges: 7195\n",
            "INFO:diff_exon:Outputting as pickle...\n",
            "INFO:diff_exon:Done\n",
            "INFO:diff_exon:Loading DDIs....\n",
            "INFO:diff_exon:# pfams: 8602, # ddis: 17450\n",
            "INFO:diff_exon:Loading PPIs....\n"
          ]
        },
        {
          "output_type": "stream",
          "name": "stdout",
          "text": [
            "Done: /content/UCS_PSI/TCGA-N9-A4Q1-01A-11R-A28V-07.aln-psi.txt -> /content/rewired_networks/TCGA-N9-A4Q1-01A-11R-A28V-07.aln\n"
          ]
        },
        {
          "output_type": "stream",
          "name": "stderr",
          "text": [
            "INFO:diff_exon:# proteins: 20286, # interactions: 793078\n",
            "INFO:diff_exon:Loading gene-protein domain info....\n",
            "INFO:diff_exon:Reading differential exon results....\n",
            "INFO:diff_exon:Reading in input exons...\n",
            "INFO:diff_exon:# of differentially expressed exons: 4749\n",
            "INFO:diff_exon:Calculating network....\n",
            "INFO:diff_exon:# nodes: 4349, # edges: 8968\n",
            "INFO:diff_exon:Outputting as pickle...\n",
            "INFO:diff_exon:Done\n",
            "INFO:diff_exon:Loading DDIs....\n"
          ]
        },
        {
          "output_type": "stream",
          "name": "stdout",
          "text": [
            "Done: /content/UCS_PSI/TCGA-N5-A4R8-01A-11R-A28V-07.aln-psi.txt -> /content/rewired_networks/TCGA-N5-A4R8-01A-11R-A28V-07.aln\n"
          ]
        },
        {
          "output_type": "stream",
          "name": "stderr",
          "text": [
            "INFO:diff_exon:# pfams: 8602, # ddis: 17450\n",
            "INFO:diff_exon:Loading PPIs....\n",
            "INFO:diff_exon:# proteins: 20286, # interactions: 793078\n",
            "INFO:diff_exon:Loading gene-protein domain info....\n",
            "INFO:diff_exon:Reading differential exon results....\n",
            "INFO:diff_exon:Reading in input exons...\n",
            "INFO:diff_exon:# of differentially expressed exons: 3413\n",
            "INFO:diff_exon:Calculating network....\n",
            "INFO:diff_exon:# nodes: 4192, # edges: 8123\n",
            "INFO:diff_exon:Outputting as pickle...\n",
            "INFO:diff_exon:Done\n",
            "INFO:diff_exon:Loading DDIs....\n"
          ]
        },
        {
          "output_type": "stream",
          "name": "stdout",
          "text": [
            "Done: /content/UCS_PSI/TCGA-N9-A4Q8-01A-31R-A28V-07.aln-psi.txt -> /content/rewired_networks/TCGA-N9-A4Q8-01A-31R-A28V-07.aln\n"
          ]
        },
        {
          "output_type": "stream",
          "name": "stderr",
          "text": [
            "INFO:diff_exon:# pfams: 8602, # ddis: 17450\n",
            "INFO:diff_exon:Loading PPIs....\n",
            "INFO:diff_exon:# proteins: 20286, # interactions: 793078\n",
            "INFO:diff_exon:Loading gene-protein domain info....\n",
            "INFO:diff_exon:Reading differential exon results....\n",
            "INFO:diff_exon:Reading in input exons...\n",
            "INFO:diff_exon:# of differentially expressed exons: 3346\n",
            "INFO:diff_exon:Calculating network....\n",
            "INFO:diff_exon:# nodes: 3824, # edges: 7284\n",
            "INFO:diff_exon:Outputting as pickle...\n",
            "INFO:diff_exon:Done\n",
            "INFO:diff_exon:Loading DDIs....\n",
            "INFO:diff_exon:# pfams: 8602, # ddis: 17450\n",
            "INFO:diff_exon:Loading PPIs....\n"
          ]
        },
        {
          "output_type": "stream",
          "name": "stdout",
          "text": [
            "Done: /content/UCS_PSI/TCGA-QN-A5NN-01A-11R-A28V-07.aln-psi.txt -> /content/rewired_networks/TCGA-QN-A5NN-01A-11R-A28V-07.aln\n"
          ]
        },
        {
          "output_type": "stream",
          "name": "stderr",
          "text": [
            "INFO:diff_exon:# proteins: 20286, # interactions: 793078\n",
            "INFO:diff_exon:Loading gene-protein domain info....\n",
            "INFO:diff_exon:Reading differential exon results....\n",
            "INFO:diff_exon:Reading in input exons...\n",
            "INFO:diff_exon:# of differentially expressed exons: 3819\n",
            "INFO:diff_exon:Calculating network....\n",
            "INFO:diff_exon:# nodes: 4124, # edges: 7949\n",
            "INFO:diff_exon:Outputting as pickle...\n",
            "INFO:diff_exon:Done\n",
            "INFO:diff_exon:Loading DDIs....\n"
          ]
        },
        {
          "output_type": "stream",
          "name": "stdout",
          "text": [
            "Done: /content/UCS_PSI/TCGA-N8-A56S-01A-11R-A28V-07.aln-psi.txt -> /content/rewired_networks/TCGA-N8-A56S-01A-11R-A28V-07.aln\n"
          ]
        },
        {
          "output_type": "stream",
          "name": "stderr",
          "text": [
            "INFO:diff_exon:# pfams: 8602, # ddis: 17450\n",
            "INFO:diff_exon:Loading PPIs....\n",
            "INFO:diff_exon:# proteins: 20286, # interactions: 793078\n",
            "INFO:diff_exon:Loading gene-protein domain info....\n",
            "INFO:diff_exon:Reading differential exon results....\n",
            "INFO:diff_exon:Reading in input exons...\n",
            "INFO:diff_exon:# of differentially expressed exons: 4400\n",
            "INFO:diff_exon:Calculating network....\n",
            "INFO:diff_exon:# nodes: 3726, # edges: 6824\n",
            "INFO:diff_exon:Outputting as pickle...\n",
            "INFO:diff_exon:Done\n",
            "INFO:diff_exon:Loading DDIs....\n"
          ]
        },
        {
          "output_type": "stream",
          "name": "stdout",
          "text": [
            "Done: /content/UCS_PSI/TCGA-N5-A59F-01A-11R-A28V-07.aln-psi.txt -> /content/rewired_networks/TCGA-N5-A59F-01A-11R-A28V-07.aln\n"
          ]
        },
        {
          "output_type": "stream",
          "name": "stderr",
          "text": [
            "INFO:diff_exon:# pfams: 8602, # ddis: 17450\n",
            "INFO:diff_exon:Loading PPIs....\n",
            "INFO:diff_exon:# proteins: 20286, # interactions: 793078\n",
            "INFO:diff_exon:Loading gene-protein domain info....\n",
            "INFO:diff_exon:Reading differential exon results....\n",
            "INFO:diff_exon:Reading in input exons...\n",
            "INFO:diff_exon:# of differentially expressed exons: 3637\n",
            "INFO:diff_exon:Calculating network....\n",
            "INFO:diff_exon:# nodes: 3702, # edges: 6982\n",
            "INFO:diff_exon:Outputting as pickle...\n",
            "INFO:diff_exon:Done\n",
            "INFO:diff_exon:Loading DDIs....\n",
            "INFO:diff_exon:# pfams: 8602, # ddis: 17450\n"
          ]
        },
        {
          "output_type": "stream",
          "name": "stdout",
          "text": [
            "Done: /content/UCS_PSI/TCGA-N6-A4VF-01A-31R-A28V-07.aln-psi.txt -> /content/rewired_networks/TCGA-N6-A4VF-01A-31R-A28V-07.aln\n"
          ]
        },
        {
          "output_type": "stream",
          "name": "stderr",
          "text": [
            "INFO:diff_exon:Loading PPIs....\n",
            "INFO:diff_exon:# proteins: 20286, # interactions: 793078\n",
            "INFO:diff_exon:Loading gene-protein domain info....\n",
            "INFO:diff_exon:Reading differential exon results....\n",
            "INFO:diff_exon:Reading in input exons...\n",
            "INFO:diff_exon:# of differentially expressed exons: 3517\n",
            "INFO:diff_exon:Calculating network....\n",
            "INFO:diff_exon:# nodes: 3711, # edges: 7277\n",
            "INFO:diff_exon:Outputting as pickle...\n",
            "INFO:diff_exon:Done\n",
            "INFO:diff_exon:Loading DDIs....\n",
            "INFO:diff_exon:# pfams: 8602, # ddis: 17450\n"
          ]
        },
        {
          "output_type": "stream",
          "name": "stdout",
          "text": [
            "Done: /content/UCS_PSI/TCGA-NA-A4R0-01A-11R-A28V-07.aln-psi.txt -> /content/rewired_networks/TCGA-NA-A4R0-01A-11R-A28V-07.aln\n"
          ]
        },
        {
          "output_type": "stream",
          "name": "stderr",
          "text": [
            "INFO:diff_exon:Loading PPIs....\n",
            "INFO:diff_exon:# proteins: 20286, # interactions: 793078\n",
            "INFO:diff_exon:Loading gene-protein domain info....\n",
            "INFO:diff_exon:Reading differential exon results....\n",
            "INFO:diff_exon:Reading in input exons...\n",
            "INFO:diff_exon:# of differentially expressed exons: 3660\n",
            "INFO:diff_exon:Calculating network....\n",
            "INFO:diff_exon:# nodes: 4068, # edges: 7886\n",
            "INFO:diff_exon:Outputting as pickle...\n",
            "INFO:diff_exon:Done\n",
            "INFO:diff_exon:Loading DDIs....\n",
            "INFO:diff_exon:# pfams: 8602, # ddis: 17450\n",
            "INFO:diff_exon:Loading PPIs....\n"
          ]
        },
        {
          "output_type": "stream",
          "name": "stdout",
          "text": [
            "Done: /content/UCS_PSI/TCGA-N5-A4RD-01A-11R-A28V-07.aln-psi.txt -> /content/rewired_networks/TCGA-N5-A4RD-01A-11R-A28V-07.aln\n"
          ]
        },
        {
          "output_type": "stream",
          "name": "stderr",
          "text": [
            "INFO:diff_exon:# proteins: 20286, # interactions: 793078\n",
            "INFO:diff_exon:Loading gene-protein domain info....\n",
            "INFO:diff_exon:Reading differential exon results....\n",
            "INFO:diff_exon:Reading in input exons...\n",
            "INFO:diff_exon:# of differentially expressed exons: 5650\n",
            "INFO:diff_exon:Calculating network....\n",
            "INFO:diff_exon:# nodes: 3542, # edges: 6256\n",
            "INFO:diff_exon:Outputting as pickle...\n",
            "INFO:diff_exon:Done\n",
            "INFO:diff_exon:Loading DDIs....\n"
          ]
        },
        {
          "output_type": "stream",
          "name": "stdout",
          "text": [
            "Done: /content/UCS_PSI/TCGA-NA-A4QY-01A-11R-A28V-07.aln-psi.txt -> /content/rewired_networks/TCGA-NA-A4QY-01A-11R-A28V-07.aln\n"
          ]
        },
        {
          "output_type": "stream",
          "name": "stderr",
          "text": [
            "INFO:diff_exon:# pfams: 8602, # ddis: 17450\n",
            "INFO:diff_exon:Loading PPIs....\n",
            "INFO:diff_exon:# proteins: 20286, # interactions: 793078\n",
            "INFO:diff_exon:Loading gene-protein domain info....\n",
            "INFO:diff_exon:Reading differential exon results....\n",
            "INFO:diff_exon:Reading in input exons...\n",
            "INFO:diff_exon:# of differentially expressed exons: 4176\n",
            "INFO:diff_exon:Calculating network....\n",
            "INFO:diff_exon:# nodes: 3818, # edges: 7469\n",
            "INFO:diff_exon:Outputting as pickle...\n",
            "INFO:diff_exon:Done\n",
            "INFO:diff_exon:Loading DDIs....\n",
            "INFO:diff_exon:# pfams: 8602, # ddis: 17450\n"
          ]
        },
        {
          "output_type": "stream",
          "name": "stdout",
          "text": [
            "Done: /content/UCS_PSI/TCGA-ND-A4WC-01A-21R-A28V-07.aln-psi.txt -> /content/rewired_networks/TCGA-ND-A4WC-01A-21R-A28V-07.aln\n"
          ]
        },
        {
          "output_type": "stream",
          "name": "stderr",
          "text": [
            "INFO:diff_exon:Loading PPIs....\n",
            "INFO:diff_exon:# proteins: 20286, # interactions: 793078\n",
            "INFO:diff_exon:Loading gene-protein domain info....\n",
            "INFO:diff_exon:Reading differential exon results....\n",
            "INFO:diff_exon:Reading in input exons...\n",
            "INFO:diff_exon:# of differentially expressed exons: 3534\n",
            "INFO:diff_exon:Calculating network....\n",
            "INFO:diff_exon:# nodes: 4579, # edges: 10060\n",
            "INFO:diff_exon:Outputting as pickle...\n",
            "INFO:diff_exon:Done\n",
            "INFO:diff_exon:Loading DDIs....\n"
          ]
        },
        {
          "output_type": "stream",
          "name": "stdout",
          "text": [
            "Done: /content/UCS_PSI/TCGA-NG-A4VU-01A-11R-A28V-07.aln-psi.txt -> /content/rewired_networks/TCGA-NG-A4VU-01A-11R-A28V-07.aln\n"
          ]
        },
        {
          "output_type": "stream",
          "name": "stderr",
          "text": [
            "INFO:diff_exon:# pfams: 8602, # ddis: 17450\n",
            "INFO:diff_exon:Loading PPIs....\n",
            "INFO:diff_exon:# proteins: 20286, # interactions: 793078\n",
            "INFO:diff_exon:Loading gene-protein domain info....\n",
            "INFO:diff_exon:Reading differential exon results....\n",
            "INFO:diff_exon:Reading in input exons...\n",
            "INFO:diff_exon:# of differentially expressed exons: 2787\n",
            "INFO:diff_exon:Calculating network....\n",
            "INFO:diff_exon:# nodes: 4120, # edges: 8107\n",
            "INFO:diff_exon:Outputting as pickle...\n",
            "INFO:diff_exon:Done\n",
            "INFO:diff_exon:Loading DDIs....\n"
          ]
        },
        {
          "output_type": "stream",
          "name": "stdout",
          "text": [
            "Done: /content/UCS_PSI/TCGA-N6-A4VE-01A-11R-A28V-07.aln-psi.txt -> /content/rewired_networks/TCGA-N6-A4VE-01A-11R-A28V-07.aln\n"
          ]
        },
        {
          "output_type": "stream",
          "name": "stderr",
          "text": [
            "INFO:diff_exon:# pfams: 8602, # ddis: 17450\n",
            "INFO:diff_exon:Loading PPIs....\n",
            "INFO:diff_exon:# proteins: 20286, # interactions: 793078\n",
            "INFO:diff_exon:Loading gene-protein domain info....\n",
            "INFO:diff_exon:Reading differential exon results....\n",
            "INFO:diff_exon:Reading in input exons...\n",
            "INFO:diff_exon:# of differentially expressed exons: 3806\n",
            "INFO:diff_exon:Calculating network....\n",
            "INFO:diff_exon:# nodes: 3608, # edges: 6431\n",
            "INFO:diff_exon:Outputting as pickle...\n",
            "INFO:diff_exon:Done\n",
            "INFO:diff_exon:Loading DDIs....\n",
            "INFO:diff_exon:# pfams: 8602, # ddis: 17450\n",
            "INFO:diff_exon:Loading PPIs....\n"
          ]
        },
        {
          "output_type": "stream",
          "name": "stdout",
          "text": [
            "Done: /content/UCS_PSI/TCGA-N9-A4Q3-01A-11R-A28V-07.aln-psi.txt -> /content/rewired_networks/TCGA-N9-A4Q3-01A-11R-A28V-07.aln\n"
          ]
        },
        {
          "output_type": "stream",
          "name": "stderr",
          "text": [
            "INFO:diff_exon:# proteins: 20286, # interactions: 793078\n",
            "INFO:diff_exon:Loading gene-protein domain info....\n",
            "INFO:diff_exon:Reading differential exon results....\n",
            "INFO:diff_exon:Reading in input exons...\n",
            "INFO:diff_exon:# of differentially expressed exons: 2841\n",
            "INFO:diff_exon:Calculating network....\n",
            "INFO:diff_exon:# nodes: 3336, # edges: 5321\n",
            "INFO:diff_exon:Outputting as pickle...\n",
            "INFO:diff_exon:Done\n",
            "INFO:diff_exon:Loading DDIs....\n",
            "INFO:diff_exon:# pfams: 8602, # ddis: 17450\n",
            "INFO:diff_exon:Loading PPIs....\n"
          ]
        },
        {
          "output_type": "stream",
          "name": "stdout",
          "text": [
            "Done: /content/UCS_PSI/TCGA-ND-A4W6-01A-11R-A28V-07.aln-psi.txt -> /content/rewired_networks/TCGA-ND-A4W6-01A-11R-A28V-07.aln\n"
          ]
        },
        {
          "output_type": "stream",
          "name": "stderr",
          "text": [
            "INFO:diff_exon:# proteins: 20286, # interactions: 793078\n",
            "INFO:diff_exon:Loading gene-protein domain info....\n",
            "INFO:diff_exon:Reading differential exon results....\n",
            "INFO:diff_exon:Reading in input exons...\n",
            "INFO:diff_exon:# of differentially expressed exons: 3850\n",
            "INFO:diff_exon:Calculating network....\n",
            "INFO:diff_exon:# nodes: 3541, # edges: 6159\n",
            "INFO:diff_exon:Outputting as pickle...\n",
            "INFO:diff_exon:Done\n",
            "INFO:diff_exon:Loading DDIs....\n",
            "INFO:diff_exon:# pfams: 8602, # ddis: 17450\n",
            "INFO:diff_exon:Loading PPIs....\n"
          ]
        },
        {
          "output_type": "stream",
          "name": "stdout",
          "text": [
            "Done: /content/UCS_PSI/TCGA-N5-A4RJ-01A-11R-A28V-07.aln-psi.txt -> /content/rewired_networks/TCGA-N5-A4RJ-01A-11R-A28V-07.aln\n"
          ]
        },
        {
          "output_type": "stream",
          "name": "stderr",
          "text": [
            "INFO:diff_exon:# proteins: 20286, # interactions: 793078\n",
            "INFO:diff_exon:Loading gene-protein domain info....\n",
            "INFO:diff_exon:Reading differential exon results....\n",
            "INFO:diff_exon:Reading in input exons...\n",
            "INFO:diff_exon:# of differentially expressed exons: 3864\n",
            "INFO:diff_exon:Calculating network....\n",
            "INFO:diff_exon:# nodes: 3560, # edges: 6469\n",
            "INFO:diff_exon:Outputting as pickle...\n",
            "INFO:diff_exon:Done\n",
            "INFO:diff_exon:Loading DDIs....\n"
          ]
        },
        {
          "output_type": "stream",
          "name": "stdout",
          "text": [
            "Done: /content/UCS_PSI/TCGA-NG-A4VW-01A-11R-A28V-07.aln-psi.txt -> /content/rewired_networks/TCGA-NG-A4VW-01A-11R-A28V-07.aln\n"
          ]
        },
        {
          "output_type": "stream",
          "name": "stderr",
          "text": [
            "INFO:diff_exon:# pfams: 8602, # ddis: 17450\n",
            "INFO:diff_exon:Loading PPIs....\n",
            "INFO:diff_exon:# proteins: 20286, # interactions: 793078\n",
            "INFO:diff_exon:Loading gene-protein domain info....\n",
            "INFO:diff_exon:Reading differential exon results....\n",
            "INFO:diff_exon:Reading in input exons...\n",
            "INFO:diff_exon:# of differentially expressed exons: 2800\n",
            "INFO:diff_exon:Calculating network....\n",
            "INFO:diff_exon:# nodes: 3932, # edges: 7054\n",
            "INFO:diff_exon:Outputting as pickle...\n",
            "INFO:diff_exon:Done\n",
            "INFO:diff_exon:Loading DDIs....\n",
            "INFO:diff_exon:# pfams: 8602, # ddis: 17450\n",
            "INFO:diff_exon:Loading PPIs....\n"
          ]
        },
        {
          "output_type": "stream",
          "name": "stdout",
          "text": [
            "Done: /content/UCS_PSI/TCGA-N8-A4PO-01A-11R-A28V-07.aln-psi.txt -> /content/rewired_networks/TCGA-N8-A4PO-01A-11R-A28V-07.aln\n"
          ]
        },
        {
          "output_type": "stream",
          "name": "stderr",
          "text": [
            "INFO:diff_exon:# proteins: 20286, # interactions: 793078\n",
            "INFO:diff_exon:Loading gene-protein domain info....\n",
            "INFO:diff_exon:Reading differential exon results....\n",
            "INFO:diff_exon:Reading in input exons...\n",
            "INFO:diff_exon:# of differentially expressed exons: 5035\n",
            "INFO:diff_exon:Calculating network....\n",
            "INFO:diff_exon:# nodes: 3136, # edges: 5414\n",
            "INFO:diff_exon:Outputting as pickle...\n",
            "INFO:diff_exon:Done\n",
            "INFO:diff_exon:Loading DDIs....\n",
            "INFO:diff_exon:# pfams: 8602, # ddis: 17450\n",
            "INFO:diff_exon:Loading PPIs....\n"
          ]
        },
        {
          "output_type": "stream",
          "name": "stdout",
          "text": [
            "Done: /content/UCS_PSI/TCGA-N5-A4RM-01A-11R-A28V-07.aln-psi.txt -> /content/rewired_networks/TCGA-N5-A4RM-01A-11R-A28V-07.aln\n"
          ]
        },
        {
          "output_type": "stream",
          "name": "stderr",
          "text": [
            "INFO:diff_exon:# proteins: 20286, # interactions: 793078\n",
            "INFO:diff_exon:Loading gene-protein domain info....\n",
            "INFO:diff_exon:Reading differential exon results....\n",
            "INFO:diff_exon:Reading in input exons...\n",
            "INFO:diff_exon:# of differentially expressed exons: 4239\n",
            "INFO:diff_exon:Calculating network....\n",
            "INFO:diff_exon:# nodes: 3781, # edges: 6946\n",
            "INFO:diff_exon:Outputting as pickle...\n",
            "INFO:diff_exon:Done\n",
            "INFO:diff_exon:Loading DDIs....\n"
          ]
        },
        {
          "output_type": "stream",
          "name": "stdout",
          "text": [
            "Done: /content/UCS_PSI/TCGA-N8-A4PP-01A-11R-A28V-07.aln-psi.txt -> /content/rewired_networks/TCGA-N8-A4PP-01A-11R-A28V-07.aln\n"
          ]
        },
        {
          "output_type": "stream",
          "name": "stderr",
          "text": [
            "INFO:diff_exon:# pfams: 8602, # ddis: 17450\n",
            "INFO:diff_exon:Loading PPIs....\n",
            "INFO:diff_exon:# proteins: 20286, # interactions: 793078\n",
            "INFO:diff_exon:Loading gene-protein domain info....\n",
            "INFO:diff_exon:Reading differential exon results....\n",
            "INFO:diff_exon:Reading in input exons...\n",
            "INFO:diff_exon:# of differentially expressed exons: 4088\n",
            "INFO:diff_exon:Calculating network....\n",
            "INFO:diff_exon:# nodes: 4141, # edges: 7638\n",
            "INFO:diff_exon:Outputting as pickle...\n",
            "INFO:diff_exon:# nodes: 4555, # edges: 9303\n",
            "INFO:diff_exon:Outputting as pickle...\n",
            "INFO:diff_exon:Done\n",
            "INFO:diff_exon:Loading DDIs....\n"
          ]
        },
        {
          "output_type": "stream",
          "name": "stdout",
          "text": [
            "Done: /content/UCS_PSI/TCGA-N9-A4PZ-01A-22R-A28V-07.aln-psi.txt -> /content/rewired_networks/TCGA-N9-A4PZ-01A-22R-A28V-07.aln\n"
          ]
        },
        {
          "output_type": "stream",
          "name": "stderr",
          "text": [
            "INFO:diff_exon:# pfams: 8602, # ddis: 17450\n",
            "INFO:diff_exon:Loading PPIs....\n",
            "INFO:diff_exon:Done\n",
            "INFO:diff_exon:Loading DDIs....\n"
          ]
        },
        {
          "output_type": "stream",
          "name": "stdout",
          "text": [
            "Done: /content/UCS_PSI/TCGA-NA-A4QW-01A-11R-A28V-07.aln-psi.txt -> /content/rewired_networks/TCGA-NA-A4QW-01A-11R-A28V-07.aln\n"
          ]
        },
        {
          "output_type": "stream",
          "name": "stderr",
          "text": [
            "INFO:diff_exon:# pfams: 8602, # ddis: 17450\n",
            "INFO:diff_exon:Loading PPIs....\n",
            "INFO:diff_exon:# proteins: 20286, # interactions: 793078\n",
            "INFO:diff_exon:Loading gene-protein domain info....\n",
            "INFO:diff_exon:Reading differential exon results....\n",
            "INFO:diff_exon:Reading in input exons...\n",
            "INFO:diff_exon:# of differentially expressed exons: 4640\n",
            "INFO:diff_exon:Calculating network....\n",
            "INFO:diff_exon:# proteins: 20286, # interactions: 793078\n",
            "INFO:diff_exon:Loading gene-protein domain info....\n",
            "INFO:diff_exon:Reading differential exon results....\n",
            "INFO:diff_exon:Reading in input exons...\n",
            "INFO:diff_exon:# of differentially expressed exons: 4087\n",
            "INFO:diff_exon:Calculating network....\n",
            "INFO:diff_exon:# nodes: 3858, # edges: 7675\n",
            "INFO:diff_exon:Outputting as pickle...\n",
            "INFO:diff_exon:Done\n",
            "INFO:diff_exon:Loading DDIs....\n"
          ]
        },
        {
          "output_type": "stream",
          "name": "stdout",
          "text": [
            "Done: /content/UCS_PSI/TCGA-N8-A4PQ-01A-11R-A28V-07.aln-psi.txt -> /content/rewired_networks/TCGA-N8-A4PQ-01A-11R-A28V-07.aln\n"
          ]
        },
        {
          "output_type": "stream",
          "name": "stderr",
          "text": [
            "INFO:diff_exon:# pfams: 8602, # ddis: 17450\n",
            "INFO:diff_exon:Loading PPIs....\n",
            "INFO:diff_exon:# proteins: 20286, # interactions: 793078\n",
            "INFO:diff_exon:Loading gene-protein domain info....\n",
            "INFO:diff_exon:Reading differential exon results....\n",
            "INFO:diff_exon:Reading in input exons...\n",
            "INFO:diff_exon:# of differentially expressed exons: 3950\n",
            "INFO:diff_exon:Calculating network....\n",
            "INFO:diff_exon:# nodes: 4226, # edges: 8435\n",
            "INFO:diff_exon:Outputting as pickle...\n",
            "INFO:diff_exon:Done\n",
            "INFO:diff_exon:Loading DDIs....\n",
            "INFO:diff_exon:# pfams: 8602, # ddis: 17450\n",
            "INFO:diff_exon:Loading PPIs....\n"
          ]
        },
        {
          "output_type": "stream",
          "name": "stdout",
          "text": [
            "Done: /content/UCS_PSI/TCGA-N8-A4PL-01A-11R-A28V-07.aln-psi.txt -> /content/rewired_networks/TCGA-N8-A4PL-01A-11R-A28V-07.aln\n"
          ]
        },
        {
          "output_type": "stream",
          "name": "stderr",
          "text": [
            "INFO:diff_exon:# proteins: 20286, # interactions: 793078\n",
            "INFO:diff_exon:Loading gene-protein domain info....\n",
            "INFO:diff_exon:Reading differential exon results....\n",
            "INFO:diff_exon:Reading in input exons...\n",
            "INFO:diff_exon:# of differentially expressed exons: 3864\n",
            "INFO:diff_exon:Calculating network....\n",
            "INFO:diff_exon:# nodes: 4171, # edges: 8159\n",
            "INFO:diff_exon:Outputting as pickle...\n",
            "INFO:diff_exon:Done\n",
            "INFO:diff_exon:Loading DDIs....\n"
          ]
        },
        {
          "output_type": "stream",
          "name": "stdout",
          "text": [
            "Done: /content/UCS_PSI/TCGA-N5-A4RN-01A-12R-A28V-07.aln-psi.txt -> /content/rewired_networks/TCGA-N5-A4RN-01A-12R-A28V-07.aln\n"
          ]
        },
        {
          "output_type": "stream",
          "name": "stderr",
          "text": [
            "INFO:diff_exon:# pfams: 8602, # ddis: 17450\n",
            "INFO:diff_exon:Loading PPIs....\n",
            "INFO:diff_exon:# nodes: 4333, # edges: 8869\n",
            "INFO:diff_exon:Outputting as pickle...\n",
            "INFO:diff_exon:Done\n",
            "INFO:diff_exon:Loading DDIs....\n"
          ]
        },
        {
          "output_type": "stream",
          "name": "stdout",
          "text": [
            "Done: /content/UCS_PSI/TCGA-NA-A4QV-01A-11R-A28V-07.aln-psi.txt -> /content/rewired_networks/TCGA-NA-A4QV-01A-11R-A28V-07.aln\n"
          ]
        },
        {
          "output_type": "stream",
          "name": "stderr",
          "text": [
            "INFO:diff_exon:# pfams: 8602, # ddis: 17450\n",
            "INFO:diff_exon:Loading PPIs....\n",
            "INFO:diff_exon:# proteins: 20286, # interactions: 793078\n",
            "INFO:diff_exon:Loading gene-protein domain info....\n",
            "INFO:diff_exon:Reading differential exon results....\n",
            "INFO:diff_exon:Reading in input exons...\n",
            "INFO:diff_exon:# of differentially expressed exons: 3427\n",
            "INFO:diff_exon:Calculating network....\n",
            "INFO:diff_exon:# proteins: 20286, # interactions: 793078\n",
            "INFO:diff_exon:Loading gene-protein domain info....\n",
            "INFO:diff_exon:Reading differential exon results....\n",
            "INFO:diff_exon:Reading in input exons...\n",
            "INFO:diff_exon:# of differentially expressed exons: 3984\n",
            "INFO:diff_exon:Calculating network....\n",
            "INFO:diff_exon:# nodes: 3689, # edges: 6968\n",
            "INFO:diff_exon:Outputting as pickle...\n",
            "INFO:diff_exon:Done\n",
            "INFO:diff_exon:Loading DDIs....\n"
          ]
        },
        {
          "output_type": "stream",
          "name": "stdout",
          "text": [
            "Done: /content/UCS_PSI/TCGA-NF-A4X2-01A-11R-A28V-07.aln-psi.txt -> /content/rewired_networks/TCGA-NF-A4X2-01A-11R-A28V-07.aln\n"
          ]
        },
        {
          "output_type": "stream",
          "name": "stderr",
          "text": [
            "INFO:diff_exon:# pfams: 8602, # ddis: 17450\n",
            "INFO:diff_exon:Loading PPIs....\n",
            "INFO:diff_exon:# nodes: 3495, # edges: 6390\n",
            "INFO:diff_exon:Outputting as pickle...\n",
            "INFO:diff_exon:Done\n",
            "INFO:diff_exon:Loading DDIs....\n"
          ]
        },
        {
          "output_type": "stream",
          "name": "stdout",
          "text": [
            "Done: /content/UCS_PSI/TCGA-NF-A4WU-01A-11R-A28V-07.aln-psi.txt -> /content/rewired_networks/TCGA-NF-A4WU-01A-11R-A28V-07.aln\n"
          ]
        },
        {
          "output_type": "stream",
          "name": "stderr",
          "text": [
            "INFO:diff_exon:# pfams: 8602, # ddis: 17450\n",
            "INFO:diff_exon:Loading PPIs....\n",
            "INFO:diff_exon:# proteins: 20286, # interactions: 793078\n",
            "INFO:diff_exon:Loading gene-protein domain info....\n",
            "INFO:diff_exon:# proteins: 20286, # interactions: 793078\n",
            "INFO:diff_exon:Loading gene-protein domain info....\n",
            "INFO:diff_exon:Reading differential exon results....\n",
            "INFO:diff_exon:Reading in input exons...\n",
            "INFO:diff_exon:# of differentially expressed exons: 3795\n",
            "INFO:diff_exon:Calculating network....\n",
            "INFO:diff_exon:Reading differential exon results....\n",
            "INFO:diff_exon:Reading in input exons...\n",
            "INFO:diff_exon:# of differentially expressed exons: 3942\n",
            "INFO:diff_exon:Calculating network....\n",
            "INFO:diff_exon:# nodes: 3701, # edges: 7099\n",
            "INFO:diff_exon:Outputting as pickle...\n",
            "INFO:diff_exon:Done\n",
            "INFO:diff_exon:Loading DDIs....\n",
            "INFO:diff_exon:# pfams: 8602, # ddis: 17450\n",
            "INFO:diff_exon:Loading PPIs....\n"
          ]
        },
        {
          "output_type": "stream",
          "name": "stdout",
          "text": [
            "Done: /content/UCS_PSI/TCGA-N6-A4VD-01A-11R-A28V-07.aln-psi.txt -> /content/rewired_networks/TCGA-N6-A4VD-01A-11R-A28V-07.aln\n"
          ]
        },
        {
          "output_type": "stream",
          "name": "stderr",
          "text": [
            "INFO:diff_exon:# proteins: 20286, # interactions: 793078\n",
            "INFO:diff_exon:Loading gene-protein domain info....\n",
            "INFO:diff_exon:Reading differential exon results....\n",
            "INFO:diff_exon:Reading in input exons...\n",
            "INFO:diff_exon:# of differentially expressed exons: 4653\n",
            "INFO:diff_exon:Calculating network....\n",
            "INFO:diff_exon:# nodes: 3728, # edges: 6378\n",
            "INFO:diff_exon:Outputting as pickle...\n",
            "INFO:diff_exon:Done\n",
            "INFO:diff_exon:Loading DDIs....\n"
          ]
        },
        {
          "output_type": "stream",
          "name": "stdout",
          "text": [
            "Done: /content/UCS_PSI/TCGA-N6-A4V9-01A-11R-A28V-07.aln-psi.txt -> /content/rewired_networks/TCGA-N6-A4V9-01A-11R-A28V-07.aln\n"
          ]
        },
        {
          "output_type": "stream",
          "name": "stderr",
          "text": [
            "INFO:diff_exon:# pfams: 8602, # ddis: 17450\n",
            "INFO:diff_exon:Loading PPIs....\n",
            "INFO:diff_exon:# nodes: 3753, # edges: 7195\n",
            "INFO:diff_exon:# proteins: 20286, # interactions: 793078\n",
            "INFO:diff_exon:Loading gene-protein domain info....\n",
            "INFO:diff_exon:Outputting as pickle...\n",
            "INFO:diff_exon:Done\n",
            "INFO:diff_exon:Loading DDIs....\n",
            "INFO:diff_exon:Reading differential exon results....\n",
            "INFO:diff_exon:Reading in input exons...\n"
          ]
        },
        {
          "output_type": "stream",
          "name": "stdout",
          "text": [
            "Done: /content/UCS_PSI/TCGA-N6-A4VC-01A-11R-A28V-07.aln-psi.txt -> /content/rewired_networks/TCGA-N6-A4VC-01A-11R-A28V-07.aln\n"
          ]
        },
        {
          "output_type": "stream",
          "name": "stderr",
          "text": [
            "INFO:diff_exon:# pfams: 8602, # ddis: 17450\n",
            "INFO:diff_exon:Loading PPIs....\n",
            "INFO:diff_exon:# of differentially expressed exons: 4226\n",
            "INFO:diff_exon:Calculating network....\n",
            "INFO:diff_exon:# proteins: 20286, # interactions: 793078\n",
            "INFO:diff_exon:Loading gene-protein domain info....\n",
            "INFO:diff_exon:Reading differential exon results....\n",
            "INFO:diff_exon:Reading in input exons...\n",
            "INFO:diff_exon:# of differentially expressed exons: 5542\n",
            "INFO:diff_exon:Calculating network....\n",
            "INFO:diff_exon:# nodes: 4176, # edges: 8295\n",
            "INFO:diff_exon:Outputting as pickle...\n",
            "INFO:diff_exon:Done\n",
            "INFO:diff_exon:Loading DDIs....\n"
          ]
        },
        {
          "output_type": "stream",
          "name": "stdout",
          "text": [
            "Done: /content/UCS_PSI/TCGA-N8-A4PN-01A-11R-A28V-07.aln-psi.txt -> /content/rewired_networks/TCGA-N8-A4PN-01A-11R-A28V-07.aln\n"
          ]
        },
        {
          "output_type": "stream",
          "name": "stderr",
          "text": [
            "INFO:diff_exon:# pfams: 8602, # ddis: 17450\n",
            "INFO:diff_exon:Loading PPIs....\n",
            "INFO:diff_exon:# proteins: 20286, # interactions: 793078\n",
            "INFO:diff_exon:Loading gene-protein domain info....\n",
            "INFO:diff_exon:Reading differential exon results....\n",
            "INFO:diff_exon:Reading in input exons...\n",
            "INFO:diff_exon:# of differentially expressed exons: 4209\n",
            "INFO:diff_exon:Calculating network....\n",
            "INFO:diff_exon:# nodes: 4075, # edges: 8024\n",
            "INFO:diff_exon:Outputting as pickle...\n",
            "INFO:diff_exon:Done\n",
            "INFO:diff_exon:Loading DDIs....\n"
          ]
        },
        {
          "output_type": "stream",
          "name": "stdout",
          "text": [
            "Done: /content/UCS_PSI/TCGA-N5-A4RU-01A-31R-A28V-07.aln-psi.txt -> /content/rewired_networks/TCGA-N5-A4RU-01A-31R-A28V-07.aln\n"
          ]
        },
        {
          "output_type": "stream",
          "name": "stderr",
          "text": [
            "INFO:diff_exon:# pfams: 8602, # ddis: 17450\n",
            "INFO:diff_exon:Loading PPIs....\n",
            "INFO:diff_exon:# proteins: 20286, # interactions: 793078\n",
            "INFO:diff_exon:Loading gene-protein domain info....\n",
            "INFO:diff_exon:Reading differential exon results....\n",
            "INFO:diff_exon:Reading in input exons...\n",
            "INFO:diff_exon:# of differentially expressed exons: 4340\n",
            "INFO:diff_exon:Calculating network....\n",
            "INFO:diff_exon:# nodes: 3786, # edges: 7045\n",
            "INFO:diff_exon:Outputting as pickle...\n",
            "INFO:diff_exon:Done\n",
            "INFO:diff_exon:Loading DDIs....\n"
          ]
        },
        {
          "output_type": "stream",
          "name": "stdout",
          "text": [
            "Done: /content/UCS_PSI/TCGA-N5-A4RT-01A-11R-A28V-07.aln-psi.txt -> /content/rewired_networks/TCGA-N5-A4RT-01A-11R-A28V-07.aln\n"
          ]
        },
        {
          "output_type": "stream",
          "name": "stderr",
          "text": [
            "INFO:diff_exon:# pfams: 8602, # ddis: 17450\n",
            "INFO:diff_exon:Loading PPIs....\n",
            "INFO:diff_exon:# nodes: 4709, # edges: 10979\n",
            "INFO:diff_exon:Outputting as pickle...\n",
            "INFO:diff_exon:Done\n",
            "INFO:diff_exon:Loading DDIs....\n"
          ]
        },
        {
          "output_type": "stream",
          "name": "stdout",
          "text": [
            "Done: /content/UCS_PSI/TCGA-N5-A4RO-01A-11R-A28V-07.aln-psi.txt -> /content/rewired_networks/TCGA-N5-A4RO-01A-11R-A28V-07.aln\n"
          ]
        },
        {
          "output_type": "stream",
          "name": "stderr",
          "text": [
            "INFO:diff_exon:# pfams: 8602, # ddis: 17450\n",
            "INFO:diff_exon:Loading PPIs....\n",
            "INFO:diff_exon:# proteins: 20286, # interactions: 793078\n",
            "INFO:diff_exon:Loading gene-protein domain info....\n",
            "INFO:diff_exon:Reading differential exon results....\n",
            "INFO:diff_exon:Reading in input exons...\n",
            "INFO:diff_exon:# of differentially expressed exons: 4010\n",
            "INFO:diff_exon:Calculating network....\n",
            "INFO:diff_exon:# proteins: 20286, # interactions: 793078\n",
            "INFO:diff_exon:Loading gene-protein domain info....\n",
            "INFO:diff_exon:Reading differential exon results....\n",
            "INFO:diff_exon:Reading in input exons...\n",
            "INFO:diff_exon:# of differentially expressed exons: 3604\n",
            "INFO:diff_exon:Calculating network....\n",
            "INFO:diff_exon:# nodes: 4311, # edges: 8811\n",
            "INFO:diff_exon:Outputting as pickle...\n",
            "INFO:diff_exon:Done\n",
            "INFO:diff_exon:Loading DDIs....\n"
          ]
        },
        {
          "output_type": "stream",
          "name": "stdout",
          "text": [
            "Done: /content/UCS_PSI/TCGA-N9-A4Q4-01A-11R-A28V-07.aln-psi.txt -> /content/rewired_networks/TCGA-N9-A4Q4-01A-11R-A28V-07.aln\n"
          ]
        },
        {
          "output_type": "stream",
          "name": "stderr",
          "text": [
            "INFO:diff_exon:# pfams: 8602, # ddis: 17450\n",
            "INFO:diff_exon:Loading PPIs....\n",
            "INFO:diff_exon:# proteins: 20286, # interactions: 793078\n",
            "INFO:diff_exon:Loading gene-protein domain info....\n",
            "INFO:diff_exon:Reading differential exon results....\n",
            "INFO:diff_exon:Reading in input exons...\n",
            "INFO:diff_exon:# of differentially expressed exons: 4146\n",
            "INFO:diff_exon:Calculating network....\n",
            "INFO:diff_exon:# nodes: 3456, # edges: 6155\n",
            "INFO:diff_exon:Outputting as pickle...\n",
            "INFO:diff_exon:Done\n",
            "INFO:diff_exon:Loading DDIs....\n"
          ]
        },
        {
          "output_type": "stream",
          "name": "stdout",
          "text": [
            "Done: /content/UCS_PSI/TCGA-ND-A4WF-01A-11R-A28V-07.aln-psi.txt -> /content/rewired_networks/TCGA-ND-A4WF-01A-11R-A28V-07.aln\n"
          ]
        },
        {
          "output_type": "stream",
          "name": "stderr",
          "text": [
            "INFO:diff_exon:# pfams: 8602, # ddis: 17450\n",
            "INFO:diff_exon:Loading PPIs....\n",
            "INFO:diff_exon:# proteins: 20286, # interactions: 793078\n",
            "INFO:diff_exon:Loading gene-protein domain info....\n",
            "INFO:diff_exon:Reading differential exon results....\n",
            "INFO:diff_exon:Reading in input exons...\n",
            "INFO:diff_exon:# of differentially expressed exons: 3936\n",
            "INFO:diff_exon:Calculating network....\n",
            "INFO:diff_exon:# nodes: 4156, # edges: 8276\n",
            "INFO:diff_exon:Outputting as pickle...\n",
            "INFO:diff_exon:Done\n",
            "INFO:diff_exon:Loading DDIs....\n",
            "INFO:diff_exon:# pfams: 8602, # ddis: 17450\n",
            "INFO:diff_exon:Loading PPIs....\n"
          ]
        },
        {
          "output_type": "stream",
          "name": "stdout",
          "text": [
            "Done: /content/UCS_PSI/TCGA-N5-A4RV-01A-21R-A28V-07.aln-psi.txt -> /content/rewired_networks/TCGA-N5-A4RV-01A-21R-A28V-07.aln\n"
          ]
        },
        {
          "output_type": "stream",
          "name": "stderr",
          "text": [
            "INFO:diff_exon:# proteins: 20286, # interactions: 793078\n",
            "INFO:diff_exon:Loading gene-protein domain info....\n",
            "INFO:diff_exon:Reading differential exon results....\n",
            "INFO:diff_exon:Reading in input exons...\n",
            "INFO:diff_exon:# of differentially expressed exons: 5008\n",
            "INFO:diff_exon:Calculating network....\n",
            "INFO:diff_exon:# nodes: 4084, # edges: 8211\n",
            "INFO:diff_exon:Outputting as pickle...\n",
            "INFO:diff_exon:Done\n",
            "INFO:diff_exon:Loading DDIs....\n",
            "INFO:diff_exon:# pfams: 8602, # ddis: 17450\n",
            "INFO:diff_exon:Loading PPIs....\n"
          ]
        },
        {
          "output_type": "stream",
          "name": "stdout",
          "text": [
            "Done: /content/UCS_PSI/TCGA-N7-A4Y5-01A-12R-A28V-07.aln-psi.txt -> /content/rewired_networks/TCGA-N7-A4Y5-01A-12R-A28V-07.aln\n"
          ]
        },
        {
          "output_type": "stream",
          "name": "stderr",
          "text": [
            "INFO:diff_exon:# proteins: 20286, # interactions: 793078\n",
            "INFO:diff_exon:Loading gene-protein domain info....\n",
            "INFO:diff_exon:Reading differential exon results....\n",
            "INFO:diff_exon:Reading in input exons...\n",
            "INFO:diff_exon:# of differentially expressed exons: 4261\n",
            "INFO:diff_exon:Calculating network....\n",
            "INFO:diff_exon:# nodes: 3880, # edges: 7009\n",
            "INFO:diff_exon:Outputting as pickle...\n",
            "INFO:diff_exon:Done\n",
            "INFO:diff_exon:Loading DDIs....\n"
          ]
        },
        {
          "output_type": "stream",
          "name": "stdout",
          "text": [
            "Done: /content/UCS_PSI/TCGA-NF-A5CP-01A-12R-A28V-07.aln-psi.txt -> /content/rewired_networks/TCGA-NF-A5CP-01A-12R-A28V-07.aln\n"
          ]
        },
        {
          "output_type": "stream",
          "name": "stderr",
          "text": [
            "INFO:diff_exon:# pfams: 8602, # ddis: 17450\n",
            "INFO:diff_exon:Loading PPIs....\n",
            "INFO:diff_exon:# proteins: 20286, # interactions: 793078\n",
            "INFO:diff_exon:Loading gene-protein domain info....\n",
            "INFO:diff_exon:Reading differential exon results....\n",
            "INFO:diff_exon:Reading in input exons...\n",
            "INFO:diff_exon:# of differentially expressed exons: 2909\n",
            "INFO:diff_exon:Calculating network....\n",
            "INFO:diff_exon:# nodes: 4577, # edges: 9293\n",
            "INFO:diff_exon:Outputting as pickle...\n",
            "INFO:diff_exon:Done\n",
            "INFO:diff_exon:Loading DDIs....\n"
          ]
        },
        {
          "output_type": "stream",
          "name": "stdout",
          "text": [
            "Done: /content/UCS_PSI/TCGA-N5-A4RA-01A-11R-A28V-07.aln-psi.txt -> /content/rewired_networks/TCGA-N5-A4RA-01A-11R-A28V-07.aln\n"
          ]
        },
        {
          "output_type": "stream",
          "name": "stderr",
          "text": [
            "INFO:diff_exon:# pfams: 8602, # ddis: 17450\n",
            "INFO:diff_exon:Loading PPIs....\n",
            "INFO:diff_exon:# proteins: 20286, # interactions: 793078\n",
            "INFO:diff_exon:Loading gene-protein domain info....\n",
            "INFO:diff_exon:Reading differential exon results....\n",
            "INFO:diff_exon:Reading in input exons...\n",
            "INFO:diff_exon:# of differentially expressed exons: 3930\n",
            "INFO:diff_exon:Calculating network....\n",
            "INFO:diff_exon:# nodes: 3470, # edges: 6055\n",
            "INFO:diff_exon:Outputting as pickle...\n",
            "INFO:diff_exon:Done\n",
            "INFO:diff_exon:Loading DDIs....\n"
          ]
        },
        {
          "output_type": "stream",
          "name": "stdout",
          "text": [
            "Done: /content/UCS_PSI/TCGA-N5-A4RS-01A-11R-A28V-07.aln-psi.txt -> /content/rewired_networks/TCGA-N5-A4RS-01A-11R-A28V-07.aln\n"
          ]
        },
        {
          "output_type": "stream",
          "name": "stderr",
          "text": [
            "INFO:diff_exon:# pfams: 8602, # ddis: 17450\n",
            "INFO:diff_exon:Loading PPIs....\n",
            "INFO:diff_exon:# proteins: 20286, # interactions: 793078\n",
            "INFO:diff_exon:Loading gene-protein domain info....\n",
            "INFO:diff_exon:Reading differential exon results....\n",
            "INFO:diff_exon:Reading in input exons...\n",
            "INFO:diff_exon:# of differentially expressed exons: 2806\n",
            "INFO:diff_exon:Calculating network....\n",
            "INFO:diff_exon:# nodes: 4104, # edges: 7912\n",
            "INFO:diff_exon:Outputting as pickle...\n",
            "INFO:diff_exon:Done\n",
            "INFO:diff_exon:Loading DDIs....\n"
          ]
        },
        {
          "output_type": "stream",
          "name": "stdout",
          "text": [
            "Done: /content/UCS_PSI/TCGA-N6-A4VG-01A-31R-A28V-07.aln-psi.txt -> /content/rewired_networks/TCGA-N6-A4VG-01A-31R-A28V-07.aln\n"
          ]
        },
        {
          "output_type": "stream",
          "name": "stderr",
          "text": [
            "INFO:diff_exon:# pfams: 8602, # ddis: 17450\n",
            "INFO:diff_exon:Loading PPIs....\n",
            "INFO:diff_exon:# proteins: 20286, # interactions: 793078\n",
            "INFO:diff_exon:Loading gene-protein domain info....\n",
            "INFO:diff_exon:Reading differential exon results....\n",
            "INFO:diff_exon:Reading in input exons...\n",
            "INFO:diff_exon:# of differentially expressed exons: 2988\n",
            "INFO:diff_exon:Calculating network....\n",
            "INFO:diff_exon:# nodes: 3779, # edges: 6767\n",
            "INFO:diff_exon:Outputting as pickle...\n",
            "INFO:diff_exon:Done\n",
            "INFO:diff_exon:Loading DDIs....\n"
          ]
        },
        {
          "output_type": "stream",
          "name": "stdout",
          "text": [
            "Done: /content/UCS_PSI/TCGA-N8-A4PI-01A-21R-A28V-07.aln-psi.txt -> /content/rewired_networks/TCGA-N8-A4PI-01A-21R-A28V-07.aln\n"
          ]
        },
        {
          "output_type": "stream",
          "name": "stderr",
          "text": [
            "INFO:diff_exon:# pfams: 8602, # ddis: 17450\n",
            "INFO:diff_exon:Loading PPIs....\n",
            "INFO:diff_exon:# proteins: 20286, # interactions: 793078\n",
            "INFO:diff_exon:Loading gene-protein domain info....\n",
            "INFO:diff_exon:Reading differential exon results....\n",
            "INFO:diff_exon:Reading in input exons...\n",
            "INFO:diff_exon:# of differentially expressed exons: 3385\n",
            "INFO:diff_exon:Calculating network....\n",
            "INFO:diff_exon:# nodes: 3318, # edges: 5538\n",
            "INFO:diff_exon:Outputting as pickle...\n",
            "INFO:diff_exon:Done\n",
            "INFO:diff_exon:Loading DDIs....\n"
          ]
        },
        {
          "output_type": "stream",
          "name": "stdout",
          "text": [
            "Done: /content/UCS_PSI/TCGA-N5-A4RF-01A-11R-A28V-07.aln-psi.txt -> /content/rewired_networks/TCGA-N5-A4RF-01A-11R-A28V-07.aln\n"
          ]
        },
        {
          "output_type": "stream",
          "name": "stderr",
          "text": [
            "INFO:diff_exon:# pfams: 8602, # ddis: 17450\n",
            "INFO:diff_exon:Loading PPIs....\n",
            "INFO:diff_exon:# proteins: 20286, # interactions: 793078\n",
            "INFO:diff_exon:Loading gene-protein domain info....\n",
            "INFO:diff_exon:Reading differential exon results....\n",
            "INFO:diff_exon:Reading in input exons...\n",
            "INFO:diff_exon:# of differentially expressed exons: 3567\n",
            "INFO:diff_exon:Calculating network....\n",
            "INFO:diff_exon:# nodes: 3605, # edges: 6461\n",
            "INFO:diff_exon:Outputting as pickle...\n",
            "INFO:diff_exon:Done\n"
          ]
        },
        {
          "output_type": "stream",
          "name": "stdout",
          "text": [
            "Done: /content/UCS_PSI/TCGA-N7-A4Y0-01A-12R-A28V-07.aln-psi.txt -> /content/rewired_networks/TCGA-N7-A4Y0-01A-12R-A28V-07.aln\n"
          ]
        },
        {
          "output_type": "stream",
          "name": "stderr",
          "text": [
            "INFO:diff_exon:# nodes: 4050, # edges: 7521\n",
            "INFO:diff_exon:Outputting as pickle...\n",
            "INFO:diff_exon:Done\n"
          ]
        },
        {
          "output_type": "stream",
          "name": "stdout",
          "text": [
            "Done: /content/UCS_PSI/TCGA-QM-A5NM-01A-11R-A28V-07.aln-psi.txt -> /content/rewired_networks/TCGA-QM-A5NM-01A-11R-A28V-07.aln\n"
          ]
        },
        {
          "output_type": "stream",
          "name": "stderr",
          "text": [
            "INFO:diff_exon:# nodes: 3687, # edges: 6485\n",
            "INFO:diff_exon:Outputting as pickle...\n",
            "INFO:diff_exon:Done\n"
          ]
        },
        {
          "output_type": "stream",
          "name": "stdout",
          "text": [
            "Done: /content/UCS_PSI/TCGA-N7-A4Y8-01A-11R-A28V-07.aln-psi.txt -> /content/rewired_networks/TCGA-N7-A4Y8-01A-11R-A28V-07.aln\n"
          ]
        }
      ]
    },
    {
      "cell_type": "markdown",
      "source": [
        "<details>\n",
        "<summary><strong>Example code snippet to run sequentially</strong></summary>\n",
        "\n",
        "```python\n",
        "import os, splitpea\n",
        "data_dir = \"/content/UCS_PSI/\"\n",
        "output_dir = \"/content/rewired_networks/\"\n",
        "os.makedirs(output_dir, exist_ok=True)\n",
        "\n",
        "for filename in os.listdir(data_dir):\n",
        "    if filename.endswith(\"-psi.txt\") or filename.endswith(\".txt\"):\n",
        "        ipref = filename.replace(\"-psi.txt\", \"\").replace(\".txt\",\"\")\n",
        "        input_file = os.path.join(data_dir, filename)\n",
        "        output_prefix = os.path.join(output_dir, ipref)\n",
        "        print(f\"Running splitpea on {input_file} -> {output_prefix}\")\n",
        "        splitpea.run(input_file, output_prefix)\n",
        "```\n",
        "</details>"
      ],
      "metadata": {
        "id": "fTt5kxBWq4-v"
      }
    },
    {
      "cell_type": "markdown",
      "source": [
        "### 4. (Optional) Create a consensus network\n",
        "\n",
        "We have generated sample-level networks. To obtain a consensus network for UCS, we can run `splitpea.get_consensus_network` on the rewired network outputs. This creates two summary networks across all patient samples: one for consensus losses (`consensus_network_neg.pickle`) and one for consensus gains (`consensus_network_pos.pickle`)."
      ],
      "metadata": {
        "id": "BXQiRSKtb74v"
      }
    },
    {
      "cell_type": "code",
      "source": [
        "cons_neg, cons_pos = splitpea.get_consensus_network(\"/content/rewired_networks/\") # pass in the path to the folder of rewired networks"
      ],
      "metadata": {
        "colab": {
          "base_uri": "https://localhost:8080/"
        },
        "id": "Wm62A72jgQsS",
        "outputId": "5325fe8b-e672-428d-bd11-ad0723a9a97f",
        "collapsed": true
      },
      "execution_count": null,
      "outputs": [
        {
          "output_type": "stream",
          "name": "stdout",
          "text": [
            "[06:46:30] Loading networks...\n",
            "[06:46:30] Adding /content/rewired_networks/TCGA-ND-A4WC-01A-21R-A28V-07.aln.edges.pickle....\n",
            "[06:46:31] Adding /content/rewired_networks/TCGA-N8-A4PM-01A-11R-A28V-07.aln.edges.pickle....\n",
            "[06:46:31] Adding /content/rewired_networks/TCGA-NA-A4QX-01A-11R-A28V-07.aln.edges.pickle....\n",
            "[06:46:32] Adding /content/rewired_networks/TCGA-N7-A59B-01A-11R-A28V-07.aln.edges.pickle....\n",
            "[06:46:32] Adding /content/rewired_networks/TCGA-N5-A59F-01A-11R-A28V-07.aln.edges.pickle....\n",
            "[06:46:33] Adding /content/rewired_networks/TCGA-NA-A4R0-01A-11R-A28V-07.aln.edges.pickle....\n",
            "[06:46:34] Adding /content/rewired_networks/TCGA-ND-A4W6-01A-11R-A28V-07.aln.edges.pickle....\n",
            "[06:46:35] Adding /content/rewired_networks/TCGA-N5-A4RU-01A-31R-A28V-07.aln.edges.pickle....\n",
            "[06:46:36] Adding /content/rewired_networks/TCGA-NA-A4QV-01A-11R-A28V-07.aln.edges.pickle....\n",
            "[06:46:37] Adding /content/rewired_networks/TCGA-N8-A4PQ-01A-11R-A28V-07.aln.edges.pickle....\n",
            "[06:46:38] Adding /content/rewired_networks/TCGA-N5-A4RS-01A-11R-A28V-07.aln.edges.pickle....\n",
            "[06:46:39] Adding /content/rewired_networks/TCGA-N5-A4RA-01A-11R-A28V-07.aln.edges.pickle....\n",
            "[06:46:40] Adding /content/rewired_networks/TCGA-N5-A4RM-01A-11R-A28V-07.aln.edges.pickle....\n",
            "[06:46:41] Adding /content/rewired_networks/TCGA-NA-A4R1-01A-11R-A28V-07.aln.edges.pickle....\n",
            "[06:46:42] Adding /content/rewired_networks/TCGA-N7-A4Y5-01A-12R-A28V-07.aln.edges.pickle....\n",
            "[06:46:43] Adding /content/rewired_networks/TCGA-N9-A4Q8-01A-31R-A28V-07.aln.edges.pickle....\n",
            "[06:46:45] Adding /content/rewired_networks/TCGA-ND-A4WF-01A-11R-A28V-07.aln.edges.pickle....\n",
            "[06:46:46] Adding /content/rewired_networks/TCGA-N5-A4RJ-01A-11R-A28V-07.aln.edges.pickle....\n",
            "[06:46:46] Adding /content/rewired_networks/TCGA-NF-A4WU-01A-11R-A28V-07.aln.edges.pickle....\n",
            "[06:46:47] Adding /content/rewired_networks/TCGA-N8-A4PO-01A-11R-A28V-07.aln.edges.pickle....\n",
            "[06:46:49] Adding /content/rewired_networks/TCGA-N5-A4RV-01A-21R-A28V-07.aln.edges.pickle....\n",
            "[06:46:51] Adding /content/rewired_networks/TCGA-N8-A4PN-01A-11R-A28V-07.aln.edges.pickle....\n",
            "[06:46:52] Adding /content/rewired_networks/TCGA-NF-A4WX-01A-11R-A28V-07.aln.edges.pickle....\n",
            "[06:46:53] Adding /content/rewired_networks/TCGA-N7-A4Y8-01A-11R-A28V-07.aln.edges.pickle....\n",
            "[06:46:54] Adding /content/rewired_networks/TCGA-N6-A4V9-01A-11R-A28V-07.aln.edges.pickle....\n",
            "[06:46:55] Adding /content/rewired_networks/TCGA-QM-A5NM-01A-11R-A28V-07.aln.edges.pickle....\n",
            "[06:46:56] Adding /content/rewired_networks/TCGA-NG-A4VU-01A-11R-A28V-07.aln.edges.pickle....\n",
            "[06:46:58] Adding /content/rewired_networks/TCGA-NA-A5I1-01A-21R-A28V-07.aln.edges.pickle....\n",
            "[06:46:59] Adding /content/rewired_networks/TCGA-N5-A4RT-01A-11R-A28V-07.aln.edges.pickle....\n",
            "[06:47:00] Adding /content/rewired_networks/TCGA-N5-A4R8-01A-11R-A28V-07.aln.edges.pickle....\n",
            "[06:47:02] Adding /content/rewired_networks/TCGA-NA-A4QW-01A-11R-A28V-07.aln.edges.pickle....\n",
            "[06:47:05] Adding /content/rewired_networks/TCGA-N6-A4VC-01A-11R-A28V-07.aln.edges.pickle....\n",
            "[06:47:06] Adding /content/rewired_networks/TCGA-N5-A4RN-01A-12R-A28V-07.aln.edges.pickle....\n",
            "[06:47:07] Adding /content/rewired_networks/TCGA-N8-A56S-01A-11R-A28V-07.aln.edges.pickle....\n",
            "[06:47:08] Adding /content/rewired_networks/TCGA-N9-A4Q4-01A-11R-A28V-07.aln.edges.pickle....\n",
            "[06:47:10] Adding /content/rewired_networks/TCGA-N8-A4PL-01A-11R-A28V-07.aln.edges.pickle....\n",
            "[06:47:11] Adding /content/rewired_networks/TCGA-NG-A4VW-01A-11R-A28V-07.aln.edges.pickle....\n",
            "[06:47:13] Adding /content/rewired_networks/TCGA-N9-A4Q1-01A-11R-A28V-07.aln.edges.pickle....\n",
            "[06:47:15] Adding /content/rewired_networks/TCGA-N8-A4PP-01A-11R-A28V-07.aln.edges.pickle....\n",
            "[06:47:16] Adding /content/rewired_networks/TCGA-NF-A4X2-01A-11R-A28V-07.aln.edges.pickle....\n",
            "[06:47:18] Adding /content/rewired_networks/TCGA-N5-A4RF-01A-11R-A28V-07.aln.edges.pickle....\n",
            "[06:47:20] Adding /content/rewired_networks/TCGA-N5-A4RD-01A-11R-A28V-07.aln.edges.pickle....\n",
            "[06:47:21] Adding /content/rewired_networks/TCGA-N6-A4VF-01A-31R-A28V-07.aln.edges.pickle....\n",
            "[06:47:22] Adding /content/rewired_networks/TCGA-N6-A4VG-01A-31R-A28V-07.aln.edges.pickle....\n",
            "[06:47:23] Adding /content/rewired_networks/TCGA-N9-A4Q3-01A-11R-A28V-07.aln.edges.pickle....\n",
            "[06:47:25] Adding /content/rewired_networks/TCGA-QN-A5NN-01A-11R-A28V-07.aln.edges.pickle....\n",
            "[06:47:26] Adding /content/rewired_networks/TCGA-N9-A4PZ-01A-22R-A28V-07.aln.edges.pickle....\n",
            "[06:47:27] Adding /content/rewired_networks/TCGA-N5-A4RO-01A-11R-A28V-07.aln.edges.pickle....\n",
            "[06:47:29] Adding /content/rewired_networks/TCGA-N5-A59E-01A-11R-A28V-07.aln.edges.pickle....\n",
            "[06:47:30] Adding /content/rewired_networks/TCGA-N9-A4Q7-01A-11R-A28V-07.aln.edges.pickle....\n",
            "[06:47:32] Adding /content/rewired_networks/TCGA-N6-A4VD-01A-11R-A28V-07.aln.edges.pickle....\n",
            "[06:47:33] Adding /content/rewired_networks/TCGA-N8-A4PI-01A-21R-A28V-07.aln.edges.pickle....\n",
            "[06:47:35] Adding /content/rewired_networks/TCGA-N7-A4Y0-01A-12R-A28V-07.aln.edges.pickle....\n",
            "[06:47:36] Adding /content/rewired_networks/TCGA-NA-A4QY-01A-11R-A28V-07.aln.edges.pickle....\n",
            "[06:47:37] Adding /content/rewired_networks/TCGA-N6-A4VE-01A-11R-A28V-07.aln.edges.pickle....\n",
            "[06:47:38] Adding /content/rewired_networks/TCGA-ND-A4WA-01A-12R-A28V-07.aln.edges.pickle....\n",
            "[06:47:39] Adding /content/rewired_networks/TCGA-NF-A5CP-01A-12R-A28V-07.aln.edges.pickle....\n"
          ]
        }
      ]
    },
    {
      "cell_type": "markdown",
      "source": [
        "### 5. Questions? Feedback?\n",
        "\n",
        "Please submit an issue through our [Github](https://github.com/ylaboratory/splitpea_package/issues) page.\n",
        "\n",
        "#### PyPi repository\n",
        "\n",
        "Want to try out Splitpea? Please download it from our PyPi repository: ...\n",
        "\n",
        "#### Citations\n",
        "\n",
        "..."
      ],
      "metadata": {
        "id": "uc3g0kdNfEb8"
      }
    }
  ]
}