{
 "cells": [
  {
   "cell_type": "code",
   "execution_count": 1,
   "metadata": {},
   "outputs": [],
   "source": [
    "import sys\n",
    "sys.path.append('../')"
   ]
  },
  {
   "cell_type": "code",
   "execution_count": 3,
   "metadata": {},
   "outputs": [
    {
     "name": "stderr",
     "output_type": "stream",
     "text": [
      "03-13-2025 04:22:21 AM:INFO:Loading DDIs....\n",
      "03-13-2025 04:22:21 AM:INFO:# pfams: 8602, # ddis: 17450\n",
      "03-13-2025 04:22:21 AM:INFO:Loading PPIs....\n",
      "03-13-2025 04:22:23 AM:INFO:# proteins: 20286, # interactions: 793078\n",
      "03-13-2025 04:22:23 AM:INFO:Loading gene-protein domain info....\n",
      "03-13-2025 04:22:24 AM:INFO:Reading differential exon results....\n",
      "03-13-2025 04:22:24 AM:INFO:Reading in input exons...\n",
      "03-13-2025 04:22:24 AM:INFO:# of differentially expressed exons: 54\n",
      "03-13-2025 04:22:24 AM:INFO:Calculating network....\n",
      "03-13-2025 04:22:25 AM:INFO:# nodes: 120, # edges: 121\n",
      "03-13-2025 04:22:25 AM:INFO:Outputting as pickle...\n",
      "03-13-2025 04:22:25 AM:INFO:Done\n"
     ]
    }
   ],
   "source": [
    "import splitpea\n",
    "\n",
    "splitpea.run(in_file=\"/home/jz94/splitpea_package/package/test/input/TCGA-VB-A8QN-01A-11R-A38C-07.aln-psi.txt\", out_file_prefix=\"reg\", verbose=True, skip=1 )"
   ]
  },
  {
   "cell_type": "code",
   "execution_count": 5,
   "metadata": {},
   "outputs": [
    {
     "name": "stderr",
     "output_type": "stream",
     "text": [
      "03-13-2025 04:25:03 AM:WARNING:Input sequence provided is already in string format. No operation performed\n",
      "03-13-2025 04:25:03 AM:WARNING:Input sequence provided is already in string format. No operation performed\n",
      "03-13-2025 04:25:03 AM:INFO:querying 1-1000 ...\n",
      "03-13-2025 04:25:05 AM:INFO:querying 1001-1032 ...\n",
      "03-13-2025 04:25:06 AM:INFO:Finished.\n",
      "03-13-2025 04:25:07 AM:INFO:Loading DDIs....\n",
      "03-13-2025 04:25:07 AM:INFO:# pfams: 8602, # ddis: 17450\n",
      "03-13-2025 04:25:07 AM:INFO:Loading PPIs....\n",
      "03-13-2025 04:25:07 AM:INFO:# proteins: 12314, # interactions: 62645\n",
      "03-13-2025 04:25:07 AM:INFO:Loading gene-protein domain info....\n",
      "03-13-2025 04:25:08 AM:INFO:Reading differential exon results....\n",
      "03-13-2025 04:25:08 AM:INFO:Reading in input exons...\n",
      "03-13-2025 04:25:08 AM:INFO:# of differentially expressed exons: 25\n",
      "03-13-2025 04:25:08 AM:INFO:Calculating network....\n",
      "03-13-2025 04:25:08 AM:INFO:# nodes: 13, # edges: 10\n",
      "03-13-2025 04:25:08 AM:INFO:Outputting as pickle...\n",
      "03-13-2025 04:25:08 AM:INFO:Done\n"
     ]
    }
   ],
   "source": [
    "import splitpea\n",
    "\n",
    "ppif = \"/home/jz94/splitpea_package/mouse_ref/mouse_ppi.dat\"\n",
    "entrezpfamf = \"/home/jz94/splitpea_package/mouse_ref/mouse_entrez_pfam.txt\"\n",
    "pfamcoordsf =  \"/home/jz94/splitpea_package/mouse_ref/mouse_pfam_genome_coords_sorted.txt.gz\"\n",
    "tbf =  \"/home/jz94/splitpea_package/mouse_ref/mouse_pfam_genome_coords_sorted.txt.gz\"\n",
    "\n",
    "psivec_path = \"/home/jz94/splitpea_package/package/test/input/s1_diffSplice.psivec\"\n",
    "dpsi_path = \"/home/jz94/splitpea_package/package/test/input/s1_diffSplice.dpsi\"\n",
    "\n",
    "\n",
    "splitpea.run(\n",
    "    in_file=[psivec_path, dpsi_path],\n",
    "    out_file_prefix=\"sup_dude\",\n",
    "    input_format=\"suppa2\",\n",
    "    verbose=True,\n",
    "    ppif=ppif,\n",
    "    entrezpfamf=entrezpfamf,\n",
    "    pfamcoordsf=pfamcoordsf,\n",
    "    tbf=tbf,\n",
    "    species = \"mouse\"\n",
    ")\n"
   ]
  }
 ],
 "metadata": {
  "kernelspec": {
   "display_name": "splitpea",
   "language": "python",
   "name": "python3"
  },
  "language_info": {
   "codemirror_mode": {
    "name": "ipython",
    "version": 3
   },
   "file_extension": ".py",
   "mimetype": "text/x-python",
   "name": "python",
   "nbconvert_exporter": "python",
   "pygments_lexer": "ipython3",
   "version": "3.8.18"
  }
 },
 "nbformat": 4,
 "nbformat_minor": 2
}
